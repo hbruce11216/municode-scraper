{
 "cells": [
  {
   "cell_type": "markdown",
   "id": "c175775a",
   "metadata": {},
   "source": [
    "# Outer Join all of the CSVs"
   ]
  },
  {
   "cell_type": "code",
   "execution_count": 1,
   "id": "2a42b515",
   "metadata": {},
   "outputs": [],
   "source": [
    "import pandas as pd"
   ]
  },
  {
   "cell_type": "code",
   "execution_count": 2,
   "id": "3564451e",
   "metadata": {},
   "outputs": [
    {
     "name": "stdout",
     "output_type": "stream",
     "text": [
      "['spotsylvania_county.csv', 'falls_church.csv', 'Richmond.csv', 'prince_george_county.csv', 'quantico.csv', 'fairfax.csv', 'madison_county.csv', 'chase_city.csv', 'covington.csv', 'hanover_county.csv', 'bluefield.csv', 'tappahannock.csv', 'james_city_county.csv', 'herndon.csv', 'bristol.csv', 'vinton.csv', 'woodstock.csv', 'prince_edward_county.csv', 'farmville.csv', 'kenbridge.csv', 'stafford_county.csv', 'cape_charles.csv', 'botetourt_county.csv', 'king_george_county.csv', 'sussex_county.csv', 'culpeper_county.csv', 'crewe.csv', 'blackstone.csv', 'salem.csv', 'petersburg.csv', 'gloucester_county.csv', 'lawrenceville.csv', 'dinwiddie_county.csv', 'powhatan_county.csv', 'brunswick_county.csv', 'tazewell.csv', 'dumfries.csv', 'windsor.csv', 'louisa_county.csv', 'bedford_county.csv', 'pulaski.csv', 'franklin_county.csv', 'orange.csv', 'vienna.csv', 'onancock.csv', 'floyd_county.csv', 'alleghany_county.csv', 'emporia.csv', 'damascus.csv', 'gordonsville.csv', 'manassas_park.csv', 'accomack_county.csv', 'amherst_county.csv', 'portsmouth.csv', 'southampton_county.csv', 'big_stone_gap.csv', 'henrico_county.csv', 'craig_county.csv', 'rocky_mount.csv', 'luray.csv', 'mecklenburg_county.csv', 'nelson_county.csv', 'south_boston.csv', 'king_and_queen_county.csv', 'alexandria.csv', 'st._paul.csv', 'wise_county.csv', 'waynesboro.csv', 'isle_of_wight_county.csv', 'amherst.csv', 'mount_jackson.csv', 'roanoke_county.csv', 'king_william_county.csv', 'essex_county.csv', 'greensville_county.csv', 'marion.csv', 'charlottesville.csv', 'westmoreland_county.csv', 'norton.csv', 'clifton_forge.csv', 'altavista.csv', 'strasburg.csv', 'prince_william_county.csv', 'bedford.csv', 'fairfax_county.csv', 'newport_news.csv', 'roanoke.csv', 'smyth_county.csv', 'harrisonburg.csv', 'chesterfield_county.csv', 'chatham.csv', 'victoria.csv', 'haymarket.csv', 'cumberland_county.csv', 'surry_county.csv', 'halifax_county.csv', 'smithfield.csv', 'shenandoah.csv', 'lunenburg_county.csv', 'charles_city_county.csv', 'buena_vista.csv', 'leesburg.csv', 'dayton.csv', 'hamilton.csv', 'christiansburg.csv', 'south_hill.csv', 'west_point.csv', 'new_kent_county.csv', 'blacksburg.csv', 'tazewell_county.csv', 'greene_county.csv', 'new_market.csv', 'martinsville.csv', 'washington_county.csv', 'manassas.csv', 'albemarle_county.csv', 'fluvanna_county.csv', 'colonial_beach.csv']\n"
     ]
    }
   ],
   "source": [
    "import os\n",
    "import glob\n",
    "\n",
    "path = 'countyCSV'\n",
    "extension = 'csv'\n",
    "os.chdir(path)\n",
    "result = glob.glob('*.{}'.format(extension))\n",
    "print(result)"
   ]
  },
  {
   "cell_type": "code",
   "execution_count": 3,
   "id": "1777544b",
   "metadata": {},
   "outputs": [],
   "source": [
    "def standardize_headers(df):\n",
    "    # if the dataframe is more than 2 columns then it holds information we don't care about\n",
    "    # so we should skip it \n",
    "    if df.shape[-1] != 2:\n",
    "        df = pd.DataFrame(columns=range(2))\n",
    "        \n",
    "    # if the first row has the headers in it, make that row the header\n",
    "    if df.columns[0] == \"0\":\n",
    "        print('first row ')\n",
    "        new_header = df.iloc[0] #grab the first row for the header\n",
    "        df = df[1:] #take the data less the header row\n",
    "\n",
    "    # but if the dataframe columns are already correct, leave them that way \n",
    "    elif df.columns[0] != \"0\":\n",
    "        print('correct')\n",
    "        pass\n",
    "    \n",
    "    # now update the headers so we can control for spacing \n",
    "    headers = ['Code of Virginia Section', 'Section this Code']\n",
    "    df.columns = headers\n",
    "    \n",
    "    return df"
   ]
  },
  {
   "cell_type": "code",
   "execution_count": 4,
   "id": "6d09e17d",
   "metadata": {},
   "outputs": [],
   "source": [
    "# df = pd.DataFrame(columns=range(2))\n",
    "# headers = ['Code of Virginia Section', 'Section this Code']\n",
    "# df.columns = headers\n",
    "# df"
   ]
  },
  {
   "cell_type": "code",
   "execution_count": 5,
   "id": "47db5b3a",
   "metadata": {},
   "outputs": [],
   "source": [
    "# exs = ['spotsylvania_county.csv', 'falls_church.csv', 'Richmond.csv', 'prince_george_county.csv', 'quantico.csv', 'fairfax.csv', 'madison_county.csv', 'chase_city.csv', 'covington.csv', 'hanover_county.csv', 'bluefield.csv', 'tappahannock.csv']"
   ]
  },
  {
   "cell_type": "code",
   "execution_count": 6,
   "id": "f786fdb3",
   "metadata": {},
   "outputs": [],
   "source": [
    "# for ex in exs:\n",
    "#     example = pd.read_csv(ex)\n",
    "#     # standardize_headers(ex)\n",
    "#     print(ex)\n",
    "#     print(example.shape)"
   ]
  },
  {
   "cell_type": "code",
   "execution_count": 8,
   "id": "002d91ab",
   "metadata": {},
   "outputs": [
    {
     "name": "stdout",
     "output_type": "stream",
     "text": [
      "correct\n"
     ]
    },
    {
     "data": {
      "text/html": [
       "<div>\n",
       "<style scoped>\n",
       "    .dataframe tbody tr th:only-of-type {\n",
       "        vertical-align: middle;\n",
       "    }\n",
       "\n",
       "    .dataframe tbody tr th {\n",
       "        vertical-align: top;\n",
       "    }\n",
       "\n",
       "    .dataframe thead th {\n",
       "        text-align: right;\n",
       "    }\n",
       "</style>\n",
       "<table border=\"1\" class=\"dataframe\">\n",
       "  <thead>\n",
       "    <tr style=\"text-align: right;\">\n",
       "      <th></th>\n",
       "      <th>Code of Virginia Section</th>\n",
       "      <th>Section this Code</th>\n",
       "    </tr>\n",
       "  </thead>\n",
       "  <tbody>\n",
       "    <tr>\n",
       "      <th>0</th>\n",
       "      <td>1-3.9</td>\n",
       "      <td>1-3</td>\n",
       "    </tr>\n",
       "    <tr>\n",
       "      <th>1</th>\n",
       "      <td>1-13.3 et seq.</td>\n",
       "      <td>1-2</td>\n",
       "    </tr>\n",
       "    <tr>\n",
       "      <th>2</th>\n",
       "      <td>2.1-116.1</td>\n",
       "      <td>16-147</td>\n",
       "    </tr>\n",
       "    <tr>\n",
       "      <th>3</th>\n",
       "      <td>2.1-116.1 et seq.</td>\n",
       "      <td>16-147</td>\n",
       "    </tr>\n",
       "    <tr>\n",
       "      <th>4</th>\n",
       "      <td>2.1-340 et seq.</td>\n",
       "      <td>2-107(b)</td>\n",
       "    </tr>\n",
       "    <tr>\n",
       "      <th>...</th>\n",
       "      <td>...</td>\n",
       "      <td>...</td>\n",
       "    </tr>\n",
       "    <tr>\n",
       "      <th>572</th>\n",
       "      <td>62.1-44.19:3</td>\n",
       "      <td>22-433</td>\n",
       "    </tr>\n",
       "    <tr>\n",
       "      <th>573</th>\n",
       "      <td>62.1-44.19:3.I</td>\n",
       "      <td>22-441</td>\n",
       "    </tr>\n",
       "    <tr>\n",
       "      <th>574</th>\n",
       "      <td>62.1-44.19:3.G</td>\n",
       "      <td>22-442</td>\n",
       "    </tr>\n",
       "    <tr>\n",
       "      <th>575</th>\n",
       "      <td>63.1-195</td>\n",
       "      <td>23-2.1.4</td>\n",
       "    </tr>\n",
       "    <tr>\n",
       "      <th>576</th>\n",
       "      <td>NaN</td>\n",
       "      <td>23-5.4.2</td>\n",
       "    </tr>\n",
       "  </tbody>\n",
       "</table>\n",
       "<p>577 rows × 2 columns</p>\n",
       "</div>"
      ],
      "text/plain": [
       "    Code of Virginia Section Section this Code\n",
       "0                      1-3.9               1-3\n",
       "1             1-13.3 et seq.               1-2\n",
       "2                  2.1-116.1            16-147\n",
       "3          2.1-116.1 et seq.            16-147\n",
       "4            2.1-340 et seq.          2-107(b)\n",
       "..                       ...               ...\n",
       "572             62.1-44.19:3            22-433\n",
       "573           62.1-44.19:3.I            22-441\n",
       "574           62.1-44.19:3.G            22-442\n",
       "575                 63.1-195          23-2.1.4\n",
       "576                      NaN          23-5.4.2\n",
       "\n",
       "[577 rows x 2 columns]"
      ]
     },
     "execution_count": 8,
     "metadata": {},
     "output_type": "execute_result"
    }
   ],
   "source": [
    "ex = pd.read_csv(\"spotsylvania_county.csv\")\n",
    "standardize_headers(ex)"
   ]
  },
  {
   "cell_type": "code",
   "execution_count": null,
   "id": "7710cd82",
   "metadata": {},
   "outputs": [
    {
     "name": "stdout",
     "output_type": "stream",
     "text": [
      "town: spotsylvania_county.csv\n",
      "correct\n",
      "town: falls_church.csv\n",
      "first row \n",
      "town: Richmond.csv\n",
      "correct\n",
      "town: prince_george_county.csv\n",
      "first row \n",
      "town: quantico.csv\n",
      "first row \n"
     ]
    }
   ],
   "source": [
    "output = pd.DataFrame()\n",
    "for csv in result[:10]:\n",
    "    print(\"town:\",csv)\n",
    "    # read in the csv as a pandas dataframe\n",
    "    df = pd.read_csv(csv)\n",
    "    \n",
    "    # clean up the dataframe and standardize it (mostly concerned with headers)\n",
    "    df = standardize_headers(df)\n",
    "    \n",
    "    # if standardize_headers() pushed an empty dataframe then just skip this\n",
    "    # this would happen when that town/county doesn't have the table that we want\n",
    "    if df.shape[0] != 0:\n",
    "\n",
    "        # if 'output' variable is an empty dataframe, initialize it with the current csv \n",
    "        if output.empty:\n",
    "            output = df\n",
    "\n",
    "        # otherwise, outerjoin the current dataframe with the 'output' dataframe variable\n",
    "        else:\n",
    "            # using merge function by setting how='inner'\n",
    "            output = pd.merge(output, df, \n",
    "                       on='Code of Virginia Section', \n",
    "                       how='outer')\n",
    "    elif df.shape[0] == 0:\n",
    "        pass\n",
    "    \n",
    "output"
   ]
  },
  {
   "cell_type": "markdown",
   "id": "dc6ff5df",
   "metadata": {},
   "source": [
    "# Problem:\n",
    "It's taking way too long. Is the algorithmic complexity accidentally too high? What am I missing here? We need to iterate over every CSV and then outer join the dataframes together so that all of the town/county law codes are paired to the state codes.\n",
    "\n",
    "### Alternative:\n",
    "Is there a better way to set up this comparison table? Does it not make sense to have them all together across 130+ columns? "
   ]
  },
  {
   "cell_type": "code",
   "execution_count": null,
   "id": "2fd35333",
   "metadata": {},
   "outputs": [],
   "source": []
  }
 ],
 "metadata": {
  "kernelspec": {
   "display_name": "Python 3",
   "language": "python",
   "name": "python3"
  },
  "language_info": {
   "codemirror_mode": {
    "name": "ipython",
    "version": 3
   },
   "file_extension": ".py",
   "mimetype": "text/x-python",
   "name": "python",
   "nbconvert_exporter": "python",
   "pygments_lexer": "ipython3",
   "version": "3.7.7"
  }
 },
 "nbformat": 4,
 "nbformat_minor": 5
}
