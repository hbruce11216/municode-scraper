{
 "cells": [
  {
   "cell_type": "markdown",
   "id": "41296bc4",
   "metadata": {},
   "source": [
    "These are the nodeIDs that link to counties with State Law Reference Tables. All others are ignored."
   ]
  },
  {
   "cell_type": "code",
   "execution_count": 1,
   "id": "69d13bd6",
   "metadata": {},
   "outputs": [],
   "source": [
    "nodeIDs = [\n",
    "    'STLARETA',\n",
    "    'STATE_LAW_REFERENCE_TABLE',\n",
    "    'COOR_STRETA',\n",
    "    'STRETA',\n",
    "    'THCH_STRETA'\n",
    "]"
   ]
  },
  {
   "cell_type": "code",
   "execution_count": 2,
   "id": "40ab2952",
   "metadata": {},
   "outputs": [
    {
     "name": "stdout",
     "output_type": "stream",
     "text": [
      "https://library.municode.com/va/buena_vista/codes/code_of_ordinances?nodeId=STLARETA\n",
      "https://library.municode.com/va/buena_vista/codes/code_of_ordinances?nodeId=STATE_LAW_REFERENCE_TABLE\n",
      "https://library.municode.com/va/buena_vista/codes/code_of_ordinances?nodeId=COOR_STRETA\n",
      "https://library.municode.com/va/buena_vista/codes/code_of_ordinances?nodeId=STRETA\n",
      "https://library.municode.com/va/buena_vista/codes/code_of_ordinances?nodeId=THCH_STRETA\n"
     ]
    }
   ],
   "source": [
    "town = 'buena_vista'\n",
    "\n",
    "for nodeID in nodeIDs:\n",
    "    url = f\"https://library.municode.com/va/{town}/codes/code_of_ordinances?nodeId={nodeID}\"\n",
    "    print(url)"
   ]
  },
  {
   "cell_type": "markdown",
   "id": "d6665009",
   "metadata": {},
   "source": [
    "For each town/county that we scrape, we will be checking if any of these urls are present in the webpage. If they are, then we will open them and scrape that page."
   ]
  },
  {
   "cell_type": "code",
   "execution_count": 3,
   "id": "55a1eb49",
   "metadata": {},
   "outputs": [],
   "source": [
    "import pandas as pd \n",
    "import os \n",
    "import time\n",
    "from selenium import webdriver\n",
    "from selenium.webdriver.common.keys import Keys\n",
    "import re\n",
    "import requests"
   ]
  },
  {
   "cell_type": "code",
   "execution_count": 4,
   "id": "69003750",
   "metadata": {},
   "outputs": [],
   "source": [
    "import municode"
   ]
  },
  {
   "cell_type": "code",
   "execution_count": 5,
   "id": "1d5fdb2c",
   "metadata": {},
   "outputs": [
    {
     "data": {
      "text/html": [
       "<div>\n",
       "<style scoped>\n",
       "    .dataframe tbody tr th:only-of-type {\n",
       "        vertical-align: middle;\n",
       "    }\n",
       "\n",
       "    .dataframe tbody tr th {\n",
       "        vertical-align: top;\n",
       "    }\n",
       "\n",
       "    .dataframe thead th {\n",
       "        text-align: right;\n",
       "    }\n",
       "</style>\n",
       "<table border=\"1\" class=\"dataframe\">\n",
       "  <thead>\n",
       "    <tr style=\"text-align: right;\">\n",
       "      <th></th>\n",
       "      <th>urls</th>\n",
       "    </tr>\n",
       "  </thead>\n",
       "  <tbody>\n",
       "    <tr>\n",
       "      <th>0</th>\n",
       "      <td>https://library.municode.com/VA/accomack_county</td>\n",
       "    </tr>\n",
       "    <tr>\n",
       "      <th>1</th>\n",
       "      <td>https://library.municode.com/VA/albemarle_county</td>\n",
       "    </tr>\n",
       "    <tr>\n",
       "      <th>2</th>\n",
       "      <td>https://library.municode.com/VA/alexandria</td>\n",
       "    </tr>\n",
       "    <tr>\n",
       "      <th>3</th>\n",
       "      <td>https://library.municode.com/VA/alleghany_county</td>\n",
       "    </tr>\n",
       "    <tr>\n",
       "      <th>4</th>\n",
       "      <td>https://library.municode.com/VA/altavista</td>\n",
       "    </tr>\n",
       "    <tr>\n",
       "      <th>...</th>\n",
       "      <td>...</td>\n",
       "    </tr>\n",
       "    <tr>\n",
       "      <th>142</th>\n",
       "      <td>https://library.municode.com/VA/winchester</td>\n",
       "    </tr>\n",
       "    <tr>\n",
       "      <th>143</th>\n",
       "      <td>https://library.municode.com/VA/windsor</td>\n",
       "    </tr>\n",
       "    <tr>\n",
       "      <th>144</th>\n",
       "      <td>https://library.municode.com/VA/wise_county</td>\n",
       "    </tr>\n",
       "    <tr>\n",
       "      <th>145</th>\n",
       "      <td>https://library.municode.com/VA/woodstock</td>\n",
       "    </tr>\n",
       "    <tr>\n",
       "      <th>146</th>\n",
       "      <td>https://library.municode.com/VA/wytheville</td>\n",
       "    </tr>\n",
       "  </tbody>\n",
       "</table>\n",
       "<p>147 rows × 1 columns</p>\n",
       "</div>"
      ],
      "text/plain": [
       "                                                 urls\n",
       "0     https://library.municode.com/VA/accomack_county\n",
       "1    https://library.municode.com/VA/albemarle_county\n",
       "2          https://library.municode.com/VA/alexandria\n",
       "3    https://library.municode.com/VA/alleghany_county\n",
       "4           https://library.municode.com/VA/altavista\n",
       "..                                                ...\n",
       "142        https://library.municode.com/VA/winchester\n",
       "143           https://library.municode.com/VA/windsor\n",
       "144       https://library.municode.com/VA/wise_county\n",
       "145         https://library.municode.com/VA/woodstock\n",
       "146        https://library.municode.com/VA/wytheville\n",
       "\n",
       "[147 rows x 1 columns]"
      ]
     },
     "execution_count": 5,
     "metadata": {},
     "output_type": "execute_result"
    }
   ],
   "source": [
    "town_urls = municode.list_of_towns()\n",
    "town_urls = town_urls.rename(columns={0:\"urls\"})\n",
    "town_urls"
   ]
  },
  {
   "cell_type": "markdown",
   "id": "3752cb8a",
   "metadata": {},
   "source": [
    "Now take the town/county code they use in the url"
   ]
  },
  {
   "cell_type": "code",
   "execution_count": 8,
   "id": "0316bead",
   "metadata": {},
   "outputs": [
    {
     "data": {
      "text/plain": [
       "'https://library.municode.com/VA/accomack_county'"
      ]
     },
     "execution_count": 8,
     "metadata": {},
     "output_type": "execute_result"
    }
   ],
   "source": [
    "town_urls.loc[0][0]"
   ]
  },
  {
   "cell_type": "code",
   "execution_count": 11,
   "id": "48f08664",
   "metadata": {},
   "outputs": [
    {
     "data": {
      "text/plain": [
       "'accomack_county'"
      ]
     },
     "execution_count": 11,
     "metadata": {},
     "output_type": "execute_result"
    }
   ],
   "source": [
    "town_urls.loc[0][0].split(\"/\")[-1]"
   ]
  },
  {
   "cell_type": "code",
   "execution_count": 15,
   "id": "ae7132f6",
   "metadata": {},
   "outputs": [
    {
     "data": {
      "text/html": [
       "<div>\n",
       "<style scoped>\n",
       "    .dataframe tbody tr th:only-of-type {\n",
       "        vertical-align: middle;\n",
       "    }\n",
       "\n",
       "    .dataframe tbody tr th {\n",
       "        vertical-align: top;\n",
       "    }\n",
       "\n",
       "    .dataframe thead th {\n",
       "        text-align: right;\n",
       "    }\n",
       "</style>\n",
       "<table border=\"1\" class=\"dataframe\">\n",
       "  <thead>\n",
       "    <tr style=\"text-align: right;\">\n",
       "      <th></th>\n",
       "      <th>urls</th>\n",
       "      <th>code</th>\n",
       "    </tr>\n",
       "  </thead>\n",
       "  <tbody>\n",
       "    <tr>\n",
       "      <th>0</th>\n",
       "      <td>https://library.municode.com/VA/accomack_county</td>\n",
       "      <td>accomack_county</td>\n",
       "    </tr>\n",
       "    <tr>\n",
       "      <th>1</th>\n",
       "      <td>https://library.municode.com/VA/albemarle_county</td>\n",
       "      <td>albemarle_county</td>\n",
       "    </tr>\n",
       "    <tr>\n",
       "      <th>2</th>\n",
       "      <td>https://library.municode.com/VA/alexandria</td>\n",
       "      <td>alexandria</td>\n",
       "    </tr>\n",
       "    <tr>\n",
       "      <th>3</th>\n",
       "      <td>https://library.municode.com/VA/alleghany_county</td>\n",
       "      <td>alleghany_county</td>\n",
       "    </tr>\n",
       "    <tr>\n",
       "      <th>4</th>\n",
       "      <td>https://library.municode.com/VA/altavista</td>\n",
       "      <td>altavista</td>\n",
       "    </tr>\n",
       "    <tr>\n",
       "      <th>...</th>\n",
       "      <td>...</td>\n",
       "      <td>...</td>\n",
       "    </tr>\n",
       "    <tr>\n",
       "      <th>142</th>\n",
       "      <td>https://library.municode.com/VA/winchester</td>\n",
       "      <td>winchester</td>\n",
       "    </tr>\n",
       "    <tr>\n",
       "      <th>143</th>\n",
       "      <td>https://library.municode.com/VA/windsor</td>\n",
       "      <td>windsor</td>\n",
       "    </tr>\n",
       "    <tr>\n",
       "      <th>144</th>\n",
       "      <td>https://library.municode.com/VA/wise_county</td>\n",
       "      <td>wise_county</td>\n",
       "    </tr>\n",
       "    <tr>\n",
       "      <th>145</th>\n",
       "      <td>https://library.municode.com/VA/woodstock</td>\n",
       "      <td>woodstock</td>\n",
       "    </tr>\n",
       "    <tr>\n",
       "      <th>146</th>\n",
       "      <td>https://library.municode.com/VA/wytheville</td>\n",
       "      <td>wytheville</td>\n",
       "    </tr>\n",
       "  </tbody>\n",
       "</table>\n",
       "<p>147 rows × 2 columns</p>\n",
       "</div>"
      ],
      "text/plain": [
       "                                                 urls              code\n",
       "0     https://library.municode.com/VA/accomack_county   accomack_county\n",
       "1    https://library.municode.com/VA/albemarle_county  albemarle_county\n",
       "2          https://library.municode.com/VA/alexandria        alexandria\n",
       "3    https://library.municode.com/VA/alleghany_county  alleghany_county\n",
       "4           https://library.municode.com/VA/altavista         altavista\n",
       "..                                                ...               ...\n",
       "142        https://library.municode.com/VA/winchester        winchester\n",
       "143           https://library.municode.com/VA/windsor           windsor\n",
       "144       https://library.municode.com/VA/wise_county       wise_county\n",
       "145         https://library.municode.com/VA/woodstock         woodstock\n",
       "146        https://library.municode.com/VA/wytheville        wytheville\n",
       "\n",
       "[147 rows x 2 columns]"
      ]
     },
     "execution_count": 15,
     "metadata": {},
     "output_type": "execute_result"
    }
   ],
   "source": [
    "town_urls['code'] = [town_urls.loc[x][0].split(\"/\")[-1] for x in range(len(town_urls['urls']))]\n",
    "town_urls"
   ]
  },
  {
   "cell_type": "markdown",
   "id": "602c348a",
   "metadata": {},
   "source": [
    "Now that I have all of the town/county codes, I can begin doing the scraping"
   ]
  },
  {
   "cell_type": "code",
   "execution_count": 16,
   "id": "cf8fa384",
   "metadata": {},
   "outputs": [],
   "source": [
    "\n",
    "def find_compTable_url(url):\n",
    "    driver = webdriver.Chrome('/Users/holdenbruce/Downloads/chromedriver3')\n",
    "\n",
    "    # set implicit wait time so that apis/javascript load before we scrape \n",
    "    driver.implicitly_wait(5) # seconds\n",
    "\n",
    "    # xpath of the table in the webpage created by javascript \n",
    "    # xpath = \"//*/span[contains(text(),'STATE LAW REFERENCE TABLE')] | //*/span[text()='TABLE']\"\n",
    "#     xpath = \"//*/href/[contains(text(), 'STLARETA') | contains(text(), 'STRETA')]\"\n",
    "#     xpath = \"/html/body/div[1]/div[2]/ui-view/mcc-codes/div[2]/section[1]/div[2]\"\n",
    "    xpath = \"//*https://library.municode.com/va/amherst/codes/code_of_ordinances?nodeId=STLARETA\"\n",
    "    \n",
    "    \n",
    "    if text in driver.page_source:\n",
    "    # text exists in page\n",
    "    \n",
    "    driver.get(url)\n",
    "\n",
    "    # use xpath to get to the table\n",
    "    data = driver.find_elements_by_xpath(xpath)\n",
    "    # links = driver.find_elements_by_tag_name(\"a\")\n",
    "    \n",
    "    \n",
    "    # add a delay of 3 seconds in the function\n",
    "    time.sleep(2)\n",
    "    \n",
    "    \n",
    "    # use outerHTML to maintain the html/css/javasript code pulled from the webpage \n",
    "    html = data[0].get_attribute(\"outerHTML\")\n",
    "\n",
    "    r2 = re.findall(r'(https?://[^\\s]+)', html)\n",
    "    \n",
    "    url = r2[-1]\n",
    "    url = url[:-1]\n",
    "    \n",
    "    return url"
   ]
  },
  {
   "cell_type": "code",
   "execution_count": 33,
   "id": "563071be",
   "metadata": {},
   "outputs": [],
   "source": [
    "driver = webdriver.Chrome('/Users/holdenbruce/Downloads/chromedriver3')\n",
    "\n",
    "# set implicit wait time so that apis/javascript load before we scrape \n",
    "driver.implicitly_wait(5) # seconds\n",
    "\n",
    "# xpath of the table in the webpage created by javascript \n",
    "# xpath = \"//*/span[contains(text(),'STATE LAW REFERENCE TABLE')] | //*/span[text()='TABLE']\"\n",
    "#     xpath = \"//*/href/[contains(text(), 'STLARETA') | contains(text(), 'STRETA')]\"\n",
    "#     xpath = \"/html/body/div[1]/div[2]/ui-view/mcc-codes/div[2]/section[1]/div[2]\"\n",
    "# xpath = \"//*https://library.municode.com/va/amherst/codes/code_of_ordinances?nodeId=STLARETA\"\n",
    "url = \"https://library.municode.com/va/amherst/codes/code_of_ordinances\"\n",
    "driver.get(url)\n",
    "\n",
    "\n",
    "data = driver.page_source"
   ]
  },
  {
   "cell_type": "code",
   "execution_count": 34,
   "id": "5434cbd3",
   "metadata": {},
   "outputs": [
    {
     "data": {
      "text/plain": [
       "'https://library.municode.com/va/amherst/codes/code_of_ordinances?nodeId=STLARETA'"
      ]
     },
     "execution_count": 34,
     "metadata": {},
     "output_type": "execute_result"
    }
   ],
   "source": [
    "spec = \"https://library.municode.com/va/amherst/codes/code_of_ordinances?nodeId=STLARETA\"\n",
    "spec"
   ]
  },
  {
   "cell_type": "code",
   "execution_count": 35,
   "id": "8ebdc2f3",
   "metadata": {},
   "outputs": [],
   "source": [
    "if spec in data:\n",
    "    print(spec)"
   ]
  },
  {
   "cell_type": "code",
   "execution_count": 31,
   "id": "9526fd01",
   "metadata": {},
   "outputs": [
    {
     "data": {
      "text/plain": [
       "False"
      ]
     },
     "execution_count": 31,
     "metadata": {},
     "output_type": "execute_result"
    }
   ],
   "source": [
    "\"nodeId=STLARETA\" in data"
   ]
  },
  {
   "cell_type": "code",
   "execution_count": 32,
   "id": "19369541",
   "metadata": {},
   "outputs": [
    {
     "data": {
      "text/plain": [
       "83713"
      ]
     },
     "execution_count": 32,
     "metadata": {},
     "output_type": "execute_result"
    }
   ],
   "source": [
    "len(data)"
   ]
  },
  {
   "cell_type": "code",
   "execution_count": 41,
   "id": "1f5bd082",
   "metadata": {},
   "outputs": [
    {
     "name": "stdout",
     "output_type": "stream",
     "text": [
      "https://library.municode.com/\n",
      "https://librarysupport.municode.com/\n",
      "javascript:void(0)\n",
      "https://library.municode.com/\n",
      "https://www.municode.com/\n"
     ]
    }
   ],
   "source": [
    "driver = webdriver.Chrome('/Users/holdenbruce/Downloads/chromedriver3')\n",
    "\n",
    "# set implicit wait time so that apis/javascript load before we scrape \n",
    "driver.implicitly_wait(10) # seconds\n",
    "\n",
    "url = \"https://library.municode.com/va/amherst/codes/code_of_ordinances\"\n",
    "driver.get(url)\n",
    "\n",
    "\n",
    "elems = driver.find_elements_by_tag_name('a')\n",
    "for elem in elems:\n",
    "    href = elem.get_attribute('href')\n",
    "    if href is not None:\n",
    "        print(href)"
   ]
  },
  {
   "cell_type": "code",
   "execution_count": null,
   "id": "b8c102b4",
   "metadata": {},
   "outputs": [],
   "source": []
  },
  {
   "cell_type": "code",
   "execution_count": null,
   "id": "dbedb611",
   "metadata": {},
   "outputs": [],
   "source": []
  },
  {
   "cell_type": "markdown",
   "id": "8c279644",
   "metadata": {},
   "source": [
    "https://www.geeksforgeeks.org/how-to-merge-two-csv-files-by-specific-column-using-pandas-in-python/"
   ]
  },
  {
   "cell_type": "code",
   "execution_count": 57,
   "id": "eaf6695b",
   "metadata": {},
   "outputs": [
    {
     "ename": "FileNotFoundError",
     "evalue": "[Errno 2] No such file or directory: 'countyCSV'",
     "output_type": "error",
     "traceback": [
      "\u001b[0;31m---------------------------------------------------------------------------\u001b[0m",
      "\u001b[0;31mFileNotFoundError\u001b[0m                         Traceback (most recent call last)",
      "\u001b[0;32m<ipython-input-57-c853af00dd14>\u001b[0m in \u001b[0;36m<module>\u001b[0;34m\u001b[0m\n\u001b[1;32m      3\u001b[0m \u001b[0;34m\u001b[0m\u001b[0m\n\u001b[1;32m      4\u001b[0m \u001b[0;34m\u001b[0m\u001b[0m\n\u001b[0;32m----> 5\u001b[0;31m \u001b[0mos\u001b[0m\u001b[0;34m.\u001b[0m\u001b[0mchdir\u001b[0m\u001b[0;34m(\u001b[0m\u001b[0;34m\"countyCSV\"\u001b[0m\u001b[0;34m)\u001b[0m\u001b[0;34m\u001b[0m\u001b[0;34m\u001b[0m\u001b[0m\n\u001b[0m\u001b[1;32m      6\u001b[0m \u001b[0;34m\u001b[0m\u001b[0m\n\u001b[1;32m      7\u001b[0m \u001b[0;32mfor\u001b[0m \u001b[0mfile\u001b[0m \u001b[0;32min\u001b[0m \u001b[0mglob\u001b[0m\u001b[0;34m.\u001b[0m\u001b[0mglob\u001b[0m\u001b[0;34m(\u001b[0m\u001b[0;34m\"*.csv\"\u001b[0m\u001b[0;34m)\u001b[0m\u001b[0;34m:\u001b[0m\u001b[0;34m\u001b[0m\u001b[0;34m\u001b[0m\u001b[0m\n",
      "\u001b[0;31mFileNotFoundError\u001b[0m: [Errno 2] No such file or directory: 'countyCSV'"
     ]
    }
   ],
   "source": [
    "import glob, os\n",
    "listOfTowns = []\n",
    "\n",
    "\n",
    "os.chdir(\"countyCSV\")\n",
    "\n",
    "for file in glob.glob(\"*.csv\"):\n",
    "    listOfTowns.append(file)"
   ]
  },
  {
   "cell_type": "code",
   "execution_count": 61,
   "id": "f6304f3d",
   "metadata": {},
   "outputs": [
    {
     "ename": "FileNotFoundError",
     "evalue": "[Errno 2] No such file or directory: 'countyCSV'",
     "output_type": "error",
     "traceback": [
      "\u001b[0;31m---------------------------------------------------------------------------\u001b[0m",
      "\u001b[0;31mFileNotFoundError\u001b[0m                         Traceback (most recent call last)",
      "\u001b[0;32m<ipython-input-61-ccc7bdf0cdb1>\u001b[0m in \u001b[0;36m<module>\u001b[0;34m\u001b[0m\n\u001b[1;32m      1\u001b[0m \u001b[0;32mimport\u001b[0m \u001b[0mglob\u001b[0m\u001b[0;34m,\u001b[0m \u001b[0mos\u001b[0m\u001b[0;34m\u001b[0m\u001b[0;34m\u001b[0m\u001b[0m\n\u001b[0;32m----> 2\u001b[0;31m \u001b[0mos\u001b[0m\u001b[0;34m.\u001b[0m\u001b[0mchdir\u001b[0m\u001b[0;34m(\u001b[0m\u001b[0;34m\"countyCSV\"\u001b[0m\u001b[0;34m)\u001b[0m\u001b[0;34m\u001b[0m\u001b[0;34m\u001b[0m\u001b[0m\n\u001b[0m\u001b[1;32m      3\u001b[0m \u001b[0;32mfor\u001b[0m \u001b[0mfile\u001b[0m \u001b[0;32min\u001b[0m \u001b[0mglob\u001b[0m\u001b[0;34m.\u001b[0m\u001b[0mglob\u001b[0m\u001b[0;34m(\u001b[0m\u001b[0;34m\"*.csv\"\u001b[0m\u001b[0;34m)\u001b[0m\u001b[0;34m:\u001b[0m\u001b[0;34m\u001b[0m\u001b[0;34m\u001b[0m\u001b[0m\n\u001b[1;32m      4\u001b[0m     \u001b[0mprint\u001b[0m\u001b[0;34m(\u001b[0m\u001b[0mfile\u001b[0m\u001b[0;34m)\u001b[0m\u001b[0;34m\u001b[0m\u001b[0;34m\u001b[0m\u001b[0m\n",
      "\u001b[0;31mFileNotFoundError\u001b[0m: [Errno 2] No such file or directory: 'countyCSV'"
     ]
    }
   ],
   "source": [
    "import glob, os\n",
    "os.chdir(\"countyCSV\")\n",
    "for file in glob.glob(\"*.csv\"):\n",
    "    print(file)"
   ]
  },
  {
   "cell_type": "code",
   "execution_count": 46,
   "id": "25afc842",
   "metadata": {},
   "outputs": [],
   "source": [
    "import pandas as pd\n",
    "  \n",
    "# reading two csv files\n",
    "data1 = pd.read_csv('countyCSV/accomack_county.csv')\n",
    "data2 = pd.read_csv('countyCSV/alleghany_county.csv')\n",
    "  \n",
    "# using merge function by setting how='inner'\n",
    "output1 = pd.merge(data1, data2, \n",
    "                   on='0', \n",
    "                   how='outer')\n",
    "  "
   ]
  },
  {
   "cell_type": "code",
   "execution_count": 47,
   "id": "3df13c9f",
   "metadata": {},
   "outputs": [
    {
     "data": {
      "text/html": [
       "<div>\n",
       "<style scoped>\n",
       "    .dataframe tbody tr th:only-of-type {\n",
       "        vertical-align: middle;\n",
       "    }\n",
       "\n",
       "    .dataframe tbody tr th {\n",
       "        vertical-align: top;\n",
       "    }\n",
       "\n",
       "    .dataframe thead th {\n",
       "        text-align: right;\n",
       "    }\n",
       "</style>\n",
       "<table border=\"1\" class=\"dataframe\">\n",
       "  <thead>\n",
       "    <tr style=\"text-align: right;\">\n",
       "      <th></th>\n",
       "      <th>0</th>\n",
       "      <th>1_x</th>\n",
       "      <th>1_y</th>\n",
       "    </tr>\n",
       "  </thead>\n",
       "  <tbody>\n",
       "    <tr>\n",
       "      <th>0</th>\n",
       "      <td>Code of Virginia  Section</td>\n",
       "      <td>Section this Code</td>\n",
       "      <td>NaN</td>\n",
       "    </tr>\n",
       "    <tr>\n",
       "      <th>1</th>\n",
       "      <td>1-13 et seq.</td>\n",
       "      <td>Ch. 1</td>\n",
       "      <td>1-2</td>\n",
       "    </tr>\n",
       "    <tr>\n",
       "      <th>2</th>\n",
       "      <td>1-13.3</td>\n",
       "      <td>1-2</td>\n",
       "      <td>NaN</td>\n",
       "    </tr>\n",
       "    <tr>\n",
       "      <th>3</th>\n",
       "      <td>1-13.6, 1-13.7</td>\n",
       "      <td>1-2</td>\n",
       "      <td>NaN</td>\n",
       "    </tr>\n",
       "    <tr>\n",
       "      <th>4</th>\n",
       "      <td>1-13.9</td>\n",
       "      <td>1-4</td>\n",
       "      <td>1-3</td>\n",
       "    </tr>\n",
       "    <tr>\n",
       "      <th>...</th>\n",
       "      <td>...</td>\n",
       "      <td>...</td>\n",
       "      <td>...</td>\n",
       "    </tr>\n",
       "    <tr>\n",
       "      <th>710</th>\n",
       "      <td>59.1-147(a)</td>\n",
       "      <td>NaN</td>\n",
       "      <td>34-32</td>\n",
       "    </tr>\n",
       "    <tr>\n",
       "      <th>711</th>\n",
       "      <td>62.1-44.15:24 et seq.  52-3</td>\n",
       "      <td>NaN</td>\n",
       "      <td>62.1-44.15:24 et seq.  52-3</td>\n",
       "    </tr>\n",
       "    <tr>\n",
       "      <th>712</th>\n",
       "      <td>62.1-44.15:35</td>\n",
       "      <td>NaN</td>\n",
       "      <td>52-7</td>\n",
       "    </tr>\n",
       "    <tr>\n",
       "      <th>713</th>\n",
       "      <td>63.1-17</td>\n",
       "      <td>NaN</td>\n",
       "      <td>66-678</td>\n",
       "    </tr>\n",
       "    <tr>\n",
       "      <th>714</th>\n",
       "      <td>63.1-172</td>\n",
       "      <td>NaN</td>\n",
       "      <td>66-93</td>\n",
       "    </tr>\n",
       "  </tbody>\n",
       "</table>\n",
       "<p>715 rows × 3 columns</p>\n",
       "</div>"
      ],
      "text/plain": [
       "                               0                1_x  \\\n",
       "0      Code of Virginia  Section  Section this Code   \n",
       "1                   1-13 et seq.              Ch. 1   \n",
       "2                         1-13.3                1-2   \n",
       "3                 1-13.6, 1-13.7                1-2   \n",
       "4                         1-13.9                1-4   \n",
       "..                           ...                ...   \n",
       "710                  59.1-147(a)                NaN   \n",
       "711  62.1-44.15:24 et seq.  52-3                NaN   \n",
       "712                62.1-44.15:35                NaN   \n",
       "713                      63.1-17                NaN   \n",
       "714                     63.1-172                NaN   \n",
       "\n",
       "                             1_y  \n",
       "0                            NaN  \n",
       "1                            1-2  \n",
       "2                            NaN  \n",
       "3                            NaN  \n",
       "4                            1-3  \n",
       "..                           ...  \n",
       "710                        34-32  \n",
       "711  62.1-44.15:24 et seq.  52-3  \n",
       "712                         52-7  \n",
       "713                       66-678  \n",
       "714                        66-93  \n",
       "\n",
       "[715 rows x 3 columns]"
      ]
     },
     "execution_count": 47,
     "metadata": {},
     "output_type": "execute_result"
    }
   ],
   "source": [
    "# displaying result\n",
    "output1"
   ]
  },
  {
   "cell_type": "code",
   "execution_count": 48,
   "id": "2c890f92",
   "metadata": {},
   "outputs": [
    {
     "ename": "KeyError",
     "evalue": "'0'",
     "output_type": "error",
     "traceback": [
      "\u001b[0;31m---------------------------------------------------------------------------\u001b[0m",
      "\u001b[0;31mKeyError\u001b[0m                                  Traceback (most recent call last)",
      "\u001b[0;32m<ipython-input-48-ac49c41f59a7>\u001b[0m in \u001b[0;36m<module>\u001b[0;34m\u001b[0m\n\u001b[1;32m      4\u001b[0m output2 = pd.merge(output1, data3, \n\u001b[1;32m      5\u001b[0m                    \u001b[0mon\u001b[0m\u001b[0;34m=\u001b[0m\u001b[0;34m'0'\u001b[0m\u001b[0;34m,\u001b[0m\u001b[0;34m\u001b[0m\u001b[0;34m\u001b[0m\u001b[0m\n\u001b[0;32m----> 6\u001b[0;31m                    how='outer')\n\u001b[0m\u001b[1;32m      7\u001b[0m \u001b[0;34m\u001b[0m\u001b[0m\n",
      "\u001b[0;32m~/opt/anaconda3/lib/python3.7/site-packages/pandas/core/reshape/merge.py\u001b[0m in \u001b[0;36mmerge\u001b[0;34m(left, right, how, on, left_on, right_on, left_index, right_index, sort, suffixes, copy, indicator, validate)\u001b[0m\n\u001b[1;32m     85\u001b[0m         \u001b[0mcopy\u001b[0m\u001b[0;34m=\u001b[0m\u001b[0mcopy\u001b[0m\u001b[0;34m,\u001b[0m\u001b[0;34m\u001b[0m\u001b[0;34m\u001b[0m\u001b[0m\n\u001b[1;32m     86\u001b[0m         \u001b[0mindicator\u001b[0m\u001b[0;34m=\u001b[0m\u001b[0mindicator\u001b[0m\u001b[0;34m,\u001b[0m\u001b[0;34m\u001b[0m\u001b[0;34m\u001b[0m\u001b[0m\n\u001b[0;32m---> 87\u001b[0;31m         \u001b[0mvalidate\u001b[0m\u001b[0;34m=\u001b[0m\u001b[0mvalidate\u001b[0m\u001b[0;34m,\u001b[0m\u001b[0;34m\u001b[0m\u001b[0;34m\u001b[0m\u001b[0m\n\u001b[0m\u001b[1;32m     88\u001b[0m     )\n\u001b[1;32m     89\u001b[0m     \u001b[0;32mreturn\u001b[0m \u001b[0mop\u001b[0m\u001b[0;34m.\u001b[0m\u001b[0mget_result\u001b[0m\u001b[0;34m(\u001b[0m\u001b[0;34m)\u001b[0m\u001b[0;34m\u001b[0m\u001b[0;34m\u001b[0m\u001b[0m\n",
      "\u001b[0;32m~/opt/anaconda3/lib/python3.7/site-packages/pandas/core/reshape/merge.py\u001b[0m in \u001b[0;36m__init__\u001b[0;34m(self, left, right, how, on, left_on, right_on, axis, left_index, right_index, sort, suffixes, copy, indicator, validate)\u001b[0m\n\u001b[1;32m    666\u001b[0m             \u001b[0mself\u001b[0m\u001b[0;34m.\u001b[0m\u001b[0mright_join_keys\u001b[0m\u001b[0;34m,\u001b[0m\u001b[0;34m\u001b[0m\u001b[0;34m\u001b[0m\u001b[0m\n\u001b[1;32m    667\u001b[0m             \u001b[0mself\u001b[0m\u001b[0;34m.\u001b[0m\u001b[0mjoin_names\u001b[0m\u001b[0;34m,\u001b[0m\u001b[0;34m\u001b[0m\u001b[0;34m\u001b[0m\u001b[0m\n\u001b[0;32m--> 668\u001b[0;31m         ) = self._get_merge_keys()\n\u001b[0m\u001b[1;32m    669\u001b[0m \u001b[0;34m\u001b[0m\u001b[0m\n\u001b[1;32m    670\u001b[0m         \u001b[0;31m# validate the merge keys dtypes. We may need to coerce\u001b[0m\u001b[0;34m\u001b[0m\u001b[0;34m\u001b[0m\u001b[0;34m\u001b[0m\u001b[0m\n",
      "\u001b[0;32m~/opt/anaconda3/lib/python3.7/site-packages/pandas/core/reshape/merge.py\u001b[0m in \u001b[0;36m_get_merge_keys\u001b[0;34m(self)\u001b[0m\n\u001b[1;32m   1031\u001b[0m                     \u001b[0;32mif\u001b[0m \u001b[0;32mnot\u001b[0m \u001b[0mis_rkey\u001b[0m\u001b[0;34m(\u001b[0m\u001b[0mrk\u001b[0m\u001b[0;34m)\u001b[0m\u001b[0;34m:\u001b[0m\u001b[0;34m\u001b[0m\u001b[0;34m\u001b[0m\u001b[0m\n\u001b[1;32m   1032\u001b[0m                         \u001b[0;32mif\u001b[0m \u001b[0mrk\u001b[0m \u001b[0;32mis\u001b[0m \u001b[0;32mnot\u001b[0m \u001b[0;32mNone\u001b[0m\u001b[0;34m:\u001b[0m\u001b[0;34m\u001b[0m\u001b[0;34m\u001b[0m\u001b[0m\n\u001b[0;32m-> 1033\u001b[0;31m                             \u001b[0mright_keys\u001b[0m\u001b[0;34m.\u001b[0m\u001b[0mappend\u001b[0m\u001b[0;34m(\u001b[0m\u001b[0mright\u001b[0m\u001b[0;34m.\u001b[0m\u001b[0m_get_label_or_level_values\u001b[0m\u001b[0;34m(\u001b[0m\u001b[0mrk\u001b[0m\u001b[0;34m)\u001b[0m\u001b[0;34m)\u001b[0m\u001b[0;34m\u001b[0m\u001b[0;34m\u001b[0m\u001b[0m\n\u001b[0m\u001b[1;32m   1034\u001b[0m                         \u001b[0;32melse\u001b[0m\u001b[0;34m:\u001b[0m\u001b[0;34m\u001b[0m\u001b[0;34m\u001b[0m\u001b[0m\n\u001b[1;32m   1035\u001b[0m                             \u001b[0;31m# work-around for merge_asof(right_index=True)\u001b[0m\u001b[0;34m\u001b[0m\u001b[0;34m\u001b[0m\u001b[0;34m\u001b[0m\u001b[0m\n",
      "\u001b[0;32m~/opt/anaconda3/lib/python3.7/site-packages/pandas/core/generic.py\u001b[0m in \u001b[0;36m_get_label_or_level_values\u001b[0;34m(self, key, axis)\u001b[0m\n\u001b[1;32m   1682\u001b[0m             \u001b[0mvalues\u001b[0m \u001b[0;34m=\u001b[0m \u001b[0mself\u001b[0m\u001b[0;34m.\u001b[0m\u001b[0maxes\u001b[0m\u001b[0;34m[\u001b[0m\u001b[0maxis\u001b[0m\u001b[0;34m]\u001b[0m\u001b[0;34m.\u001b[0m\u001b[0mget_level_values\u001b[0m\u001b[0;34m(\u001b[0m\u001b[0mkey\u001b[0m\u001b[0;34m)\u001b[0m\u001b[0;34m.\u001b[0m\u001b[0m_values\u001b[0m\u001b[0;34m\u001b[0m\u001b[0;34m\u001b[0m\u001b[0m\n\u001b[1;32m   1683\u001b[0m         \u001b[0;32melse\u001b[0m\u001b[0;34m:\u001b[0m\u001b[0;34m\u001b[0m\u001b[0;34m\u001b[0m\u001b[0m\n\u001b[0;32m-> 1684\u001b[0;31m             \u001b[0;32mraise\u001b[0m \u001b[0mKeyError\u001b[0m\u001b[0;34m(\u001b[0m\u001b[0mkey\u001b[0m\u001b[0;34m)\u001b[0m\u001b[0;34m\u001b[0m\u001b[0;34m\u001b[0m\u001b[0m\n\u001b[0m\u001b[1;32m   1685\u001b[0m \u001b[0;34m\u001b[0m\u001b[0m\n\u001b[1;32m   1686\u001b[0m         \u001b[0;31m# Check for duplicates\u001b[0m\u001b[0;34m\u001b[0m\u001b[0;34m\u001b[0m\u001b[0;34m\u001b[0m\u001b[0m\n",
      "\u001b[0;31mKeyError\u001b[0m: '0'"
     ]
    }
   ],
   "source": [
    "data3 = pd.read_csv('countyCSV/altavista.csv')\n",
    "  \n",
    "# using merge function by setting how='inner'\n",
    "output2 = pd.merge(output1, data3, \n",
    "                   on='0', \n",
    "                   how='outer')\n",
    "  "
   ]
  },
  {
   "cell_type": "code",
   "execution_count": null,
   "id": "7ece35b2",
   "metadata": {},
   "outputs": [],
   "source": []
  }
 ],
 "metadata": {
  "kernelspec": {
   "display_name": "Python 3",
   "language": "python",
   "name": "python3"
  },
  "language_info": {
   "codemirror_mode": {
    "name": "ipython",
    "version": 3
   },
   "file_extension": ".py",
   "mimetype": "text/x-python",
   "name": "python",
   "nbconvert_exporter": "python",
   "pygments_lexer": "ipython3",
   "version": "3.7.7"
  }
 },
 "nbformat": 4,
 "nbformat_minor": 5
}
