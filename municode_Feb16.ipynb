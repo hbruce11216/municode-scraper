{
 "cells": [
  {
   "cell_type": "markdown",
   "id": "866b30ad",
   "metadata": {},
   "source": [
    "These are the nodeIDs that link to counties with State Law Reference Tables. All others are ignored."
   ]
  },
  {
   "cell_type": "code",
   "execution_count": 1,
   "id": "bb8dc9f5",
   "metadata": {},
   "outputs": [],
   "source": [
    "nodeIDs = [\n",
    "    'STLARETA',\n",
    "    'STATE_LAW_REFERENCE_TABLE',\n",
    "    'COOR_STRETA',\n",
    "    'STRETA',\n",
    "    'THCH_STRETA'\n",
    "]"
   ]
  },
  {
   "cell_type": "code",
   "execution_count": 2,
   "id": "1289c811",
   "metadata": {},
   "outputs": [
    {
     "name": "stdout",
     "output_type": "stream",
     "text": [
      "https://library.municode.com/va/buena_vista/codes/code_of_ordinances?nodeId=STLARETA\n",
      "https://library.municode.com/va/buena_vista/codes/code_of_ordinances?nodeId=STATE_LAW_REFERENCE_TABLE\n",
      "https://library.municode.com/va/buena_vista/codes/code_of_ordinances?nodeId=COOR_STRETA\n",
      "https://library.municode.com/va/buena_vista/codes/code_of_ordinances?nodeId=STRETA\n",
      "https://library.municode.com/va/buena_vista/codes/code_of_ordinances?nodeId=THCH_STRETA\n"
     ]
    }
   ],
   "source": [
    "town = 'buena_vista'\n",
    "\n",
    "for nodeID in nodeIDs:\n",
    "    url = f\"https://library.municode.com/va/{town}/codes/code_of_ordinances?nodeId={nodeID}\"\n",
    "    print(url)"
   ]
  },
  {
   "cell_type": "markdown",
   "id": "b60bffff",
   "metadata": {},
   "source": [
    "For each town/county that we scrape, we will be checking if any of these urls are present in the webpage. If they are, then we will open them and scrape that page."
   ]
  },
  {
   "cell_type": "code",
   "execution_count": 2,
   "id": "33049d1e",
   "metadata": {},
   "outputs": [],
   "source": [
    "import pandas as pd \n",
    "import os \n",
    "import time\n",
    "from selenium import webdriver\n",
    "from selenium.webdriver.common.keys import Keys\n",
    "import re\n",
    "import requests"
   ]
  },
  {
   "cell_type": "code",
   "execution_count": 3,
   "id": "de9e774e",
   "metadata": {},
   "outputs": [],
   "source": [
    "import municode"
   ]
  },
  {
   "cell_type": "code",
   "execution_count": 4,
   "id": "96b68455",
   "metadata": {},
   "outputs": [
    {
     "data": {
      "text/html": [
       "<div>\n",
       "<style scoped>\n",
       "    .dataframe tbody tr th:only-of-type {\n",
       "        vertical-align: middle;\n",
       "    }\n",
       "\n",
       "    .dataframe tbody tr th {\n",
       "        vertical-align: top;\n",
       "    }\n",
       "\n",
       "    .dataframe thead th {\n",
       "        text-align: right;\n",
       "    }\n",
       "</style>\n",
       "<table border=\"1\" class=\"dataframe\">\n",
       "  <thead>\n",
       "    <tr style=\"text-align: right;\">\n",
       "      <th></th>\n",
       "      <th>urls</th>\n",
       "    </tr>\n",
       "  </thead>\n",
       "  <tbody>\n",
       "    <tr>\n",
       "      <th>0</th>\n",
       "      <td>https://library.municode.com/VA/accomack_county</td>\n",
       "    </tr>\n",
       "    <tr>\n",
       "      <th>1</th>\n",
       "      <td>https://library.municode.com/VA/albemarle_county</td>\n",
       "    </tr>\n",
       "    <tr>\n",
       "      <th>2</th>\n",
       "      <td>https://library.municode.com/VA/alexandria</td>\n",
       "    </tr>\n",
       "    <tr>\n",
       "      <th>3</th>\n",
       "      <td>https://library.municode.com/VA/alleghany_county</td>\n",
       "    </tr>\n",
       "    <tr>\n",
       "      <th>4</th>\n",
       "      <td>https://library.municode.com/VA/altavista</td>\n",
       "    </tr>\n",
       "    <tr>\n",
       "      <th>...</th>\n",
       "      <td>...</td>\n",
       "    </tr>\n",
       "    <tr>\n",
       "      <th>142</th>\n",
       "      <td>https://library.municode.com/VA/winchester</td>\n",
       "    </tr>\n",
       "    <tr>\n",
       "      <th>143</th>\n",
       "      <td>https://library.municode.com/VA/windsor</td>\n",
       "    </tr>\n",
       "    <tr>\n",
       "      <th>144</th>\n",
       "      <td>https://library.municode.com/VA/wise_county</td>\n",
       "    </tr>\n",
       "    <tr>\n",
       "      <th>145</th>\n",
       "      <td>https://library.municode.com/VA/woodstock</td>\n",
       "    </tr>\n",
       "    <tr>\n",
       "      <th>146</th>\n",
       "      <td>https://library.municode.com/VA/wytheville</td>\n",
       "    </tr>\n",
       "  </tbody>\n",
       "</table>\n",
       "<p>147 rows × 1 columns</p>\n",
       "</div>"
      ],
      "text/plain": [
       "                                                 urls\n",
       "0     https://library.municode.com/VA/accomack_county\n",
       "1    https://library.municode.com/VA/albemarle_county\n",
       "2          https://library.municode.com/VA/alexandria\n",
       "3    https://library.municode.com/VA/alleghany_county\n",
       "4           https://library.municode.com/VA/altavista\n",
       "..                                                ...\n",
       "142        https://library.municode.com/VA/winchester\n",
       "143           https://library.municode.com/VA/windsor\n",
       "144       https://library.municode.com/VA/wise_county\n",
       "145         https://library.municode.com/VA/woodstock\n",
       "146        https://library.municode.com/VA/wytheville\n",
       "\n",
       "[147 rows x 1 columns]"
      ]
     },
     "execution_count": 4,
     "metadata": {},
     "output_type": "execute_result"
    }
   ],
   "source": [
    "town_urls = municode.list_of_towns()\n",
    "town_urls = town_urls.rename(columns={0:\"urls\"})\n",
    "town_urls"
   ]
  },
  {
   "cell_type": "markdown",
   "id": "15f1ebce",
   "metadata": {},
   "source": [
    "Now take the town/county code they use in the url"
   ]
  },
  {
   "cell_type": "code",
   "execution_count": 8,
   "id": "f64e0dd5",
   "metadata": {},
   "outputs": [
    {
     "data": {
      "text/plain": [
       "'https://library.municode.com/VA/accomack_county'"
      ]
     },
     "execution_count": 8,
     "metadata": {},
     "output_type": "execute_result"
    }
   ],
   "source": [
    "town_urls.loc[0][0]"
   ]
  },
  {
   "cell_type": "code",
   "execution_count": 11,
   "id": "015c8942",
   "metadata": {},
   "outputs": [
    {
     "data": {
      "text/plain": [
       "'accomack_county'"
      ]
     },
     "execution_count": 11,
     "metadata": {},
     "output_type": "execute_result"
    }
   ],
   "source": [
    "town_urls.loc[0][0].split(\"/\")[-1]"
   ]
  },
  {
   "cell_type": "code",
   "execution_count": 15,
   "id": "7765c484",
   "metadata": {},
   "outputs": [
    {
     "data": {
      "text/html": [
       "<div>\n",
       "<style scoped>\n",
       "    .dataframe tbody tr th:only-of-type {\n",
       "        vertical-align: middle;\n",
       "    }\n",
       "\n",
       "    .dataframe tbody tr th {\n",
       "        vertical-align: top;\n",
       "    }\n",
       "\n",
       "    .dataframe thead th {\n",
       "        text-align: right;\n",
       "    }\n",
       "</style>\n",
       "<table border=\"1\" class=\"dataframe\">\n",
       "  <thead>\n",
       "    <tr style=\"text-align: right;\">\n",
       "      <th></th>\n",
       "      <th>urls</th>\n",
       "      <th>code</th>\n",
       "    </tr>\n",
       "  </thead>\n",
       "  <tbody>\n",
       "    <tr>\n",
       "      <th>0</th>\n",
       "      <td>https://library.municode.com/VA/accomack_county</td>\n",
       "      <td>accomack_county</td>\n",
       "    </tr>\n",
       "    <tr>\n",
       "      <th>1</th>\n",
       "      <td>https://library.municode.com/VA/albemarle_county</td>\n",
       "      <td>albemarle_county</td>\n",
       "    </tr>\n",
       "    <tr>\n",
       "      <th>2</th>\n",
       "      <td>https://library.municode.com/VA/alexandria</td>\n",
       "      <td>alexandria</td>\n",
       "    </tr>\n",
       "    <tr>\n",
       "      <th>3</th>\n",
       "      <td>https://library.municode.com/VA/alleghany_county</td>\n",
       "      <td>alleghany_county</td>\n",
       "    </tr>\n",
       "    <tr>\n",
       "      <th>4</th>\n",
       "      <td>https://library.municode.com/VA/altavista</td>\n",
       "      <td>altavista</td>\n",
       "    </tr>\n",
       "    <tr>\n",
       "      <th>...</th>\n",
       "      <td>...</td>\n",
       "      <td>...</td>\n",
       "    </tr>\n",
       "    <tr>\n",
       "      <th>142</th>\n",
       "      <td>https://library.municode.com/VA/winchester</td>\n",
       "      <td>winchester</td>\n",
       "    </tr>\n",
       "    <tr>\n",
       "      <th>143</th>\n",
       "      <td>https://library.municode.com/VA/windsor</td>\n",
       "      <td>windsor</td>\n",
       "    </tr>\n",
       "    <tr>\n",
       "      <th>144</th>\n",
       "      <td>https://library.municode.com/VA/wise_county</td>\n",
       "      <td>wise_county</td>\n",
       "    </tr>\n",
       "    <tr>\n",
       "      <th>145</th>\n",
       "      <td>https://library.municode.com/VA/woodstock</td>\n",
       "      <td>woodstock</td>\n",
       "    </tr>\n",
       "    <tr>\n",
       "      <th>146</th>\n",
       "      <td>https://library.municode.com/VA/wytheville</td>\n",
       "      <td>wytheville</td>\n",
       "    </tr>\n",
       "  </tbody>\n",
       "</table>\n",
       "<p>147 rows × 2 columns</p>\n",
       "</div>"
      ],
      "text/plain": [
       "                                                 urls              code\n",
       "0     https://library.municode.com/VA/accomack_county   accomack_county\n",
       "1    https://library.municode.com/VA/albemarle_county  albemarle_county\n",
       "2          https://library.municode.com/VA/alexandria        alexandria\n",
       "3    https://library.municode.com/VA/alleghany_county  alleghany_county\n",
       "4           https://library.municode.com/VA/altavista         altavista\n",
       "..                                                ...               ...\n",
       "142        https://library.municode.com/VA/winchester        winchester\n",
       "143           https://library.municode.com/VA/windsor           windsor\n",
       "144       https://library.municode.com/VA/wise_county       wise_county\n",
       "145         https://library.municode.com/VA/woodstock         woodstock\n",
       "146        https://library.municode.com/VA/wytheville        wytheville\n",
       "\n",
       "[147 rows x 2 columns]"
      ]
     },
     "execution_count": 15,
     "metadata": {},
     "output_type": "execute_result"
    }
   ],
   "source": [
    "town_urls['code'] = [town_urls.loc[x][0].split(\"/\")[-1] for x in range(len(town_urls['urls']))]\n",
    "town_urls"
   ]
  },
  {
   "cell_type": "markdown",
   "id": "096bbf28",
   "metadata": {},
   "source": [
    "Now that I have all of the town/county codes, I can begin doing the scraping"
   ]
  },
  {
   "cell_type": "code",
   "execution_count": 16,
   "id": "debd8966",
   "metadata": {},
   "outputs": [],
   "source": [
    "\n",
    "def find_compTable_url(url):\n",
    "    driver = webdriver.Chrome('/Users/holdenbruce/Downloads/chromedriver3')\n",
    "\n",
    "    # set implicit wait time so that apis/javascript load before we scrape \n",
    "    driver.implicitly_wait(5) # seconds\n",
    "\n",
    "    # xpath of the table in the webpage created by javascript \n",
    "    # xpath = \"//*/span[contains(text(),'STATE LAW REFERENCE TABLE')] | //*/span[text()='TABLE']\"\n",
    "#     xpath = \"//*/href/[contains(text(), 'STLARETA') | contains(text(), 'STRETA')]\"\n",
    "#     xpath = \"/html/body/div[1]/div[2]/ui-view/mcc-codes/div[2]/section[1]/div[2]\"\n",
    "    xpath = \"//*https://library.municode.com/va/amherst/codes/code_of_ordinances?nodeId=STLARETA\"\n",
    "    \n",
    "    \n",
    "    if text in driver.page_source:\n",
    "    # text exists in page\n",
    "    \n",
    "    driver.get(url)\n",
    "\n",
    "    # use xpath to get to the table\n",
    "    data = driver.find_elements_by_xpath(xpath)\n",
    "    # links = driver.find_elements_by_tag_name(\"a\")\n",
    "    \n",
    "    \n",
    "    # add a delay of 3 seconds in the function\n",
    "    time.sleep(2)\n",
    "    \n",
    "    \n",
    "    # use outerHTML to maintain the html/css/javasript code pulled from the webpage \n",
    "    html = data[0].get_attribute(\"outerHTML\")\n",
    "\n",
    "    r2 = re.findall(r'(https?://[^\\s]+)', html)\n",
    "    \n",
    "    url = r2[-1]\n",
    "    url = url[:-1]\n",
    "    \n",
    "    return url"
   ]
  },
  {
   "cell_type": "code",
   "execution_count": 33,
   "id": "d7266d14",
   "metadata": {},
   "outputs": [],
   "source": [
    "driver = webdriver.Chrome('/Users/holdenbruce/Downloads/chromedriver3')\n",
    "\n",
    "# set implicit wait time so that apis/javascript load before we scrape \n",
    "driver.implicitly_wait(5) # seconds\n",
    "\n",
    "# xpath of the table in the webpage created by javascript \n",
    "# xpath = \"//*/span[contains(text(),'STATE LAW REFERENCE TABLE')] | //*/span[text()='TABLE']\"\n",
    "#     xpath = \"//*/href/[contains(text(), 'STLARETA') | contains(text(), 'STRETA')]\"\n",
    "#     xpath = \"/html/body/div[1]/div[2]/ui-view/mcc-codes/div[2]/section[1]/div[2]\"\n",
    "# xpath = \"//*https://library.municode.com/va/amherst/codes/code_of_ordinances?nodeId=STLARETA\"\n",
    "url = \"https://library.municode.com/va/amherst/codes/code_of_ordinances\"\n",
    "driver.get(url)\n",
    "\n",
    "\n",
    "data = driver.page_source"
   ]
  },
  {
   "cell_type": "code",
   "execution_count": 34,
   "id": "33e803cf",
   "metadata": {},
   "outputs": [
    {
     "data": {
      "text/plain": [
       "'https://library.municode.com/va/amherst/codes/code_of_ordinances?nodeId=STLARETA'"
      ]
     },
     "execution_count": 34,
     "metadata": {},
     "output_type": "execute_result"
    }
   ],
   "source": [
    "spec = \"https://library.municode.com/va/amherst/codes/code_of_ordinances?nodeId=STLARETA\"\n",
    "spec"
   ]
  },
  {
   "cell_type": "code",
   "execution_count": 35,
   "id": "7f09f4f7",
   "metadata": {},
   "outputs": [],
   "source": [
    "if spec in data:\n",
    "    print(spec)"
   ]
  },
  {
   "cell_type": "code",
   "execution_count": 31,
   "id": "ef888f04",
   "metadata": {},
   "outputs": [
    {
     "data": {
      "text/plain": [
       "False"
      ]
     },
     "execution_count": 31,
     "metadata": {},
     "output_type": "execute_result"
    }
   ],
   "source": [
    "\"nodeId=STLARETA\" in data"
   ]
  },
  {
   "cell_type": "code",
   "execution_count": 32,
   "id": "6dc26832",
   "metadata": {},
   "outputs": [
    {
     "data": {
      "text/plain": [
       "83713"
      ]
     },
     "execution_count": 32,
     "metadata": {},
     "output_type": "execute_result"
    }
   ],
   "source": [
    "len(data)"
   ]
  },
  {
   "cell_type": "code",
   "execution_count": 41,
   "id": "81fa2ab7",
   "metadata": {},
   "outputs": [
    {
     "name": "stdout",
     "output_type": "stream",
     "text": [
      "https://library.municode.com/\n",
      "https://librarysupport.municode.com/\n",
      "javascript:void(0)\n",
      "https://library.municode.com/\n",
      "https://www.municode.com/\n"
     ]
    }
   ],
   "source": [
    "driver = webdriver.Chrome('/Users/holdenbruce/Downloads/chromedriver3')\n",
    "\n",
    "# set implicit wait time so that apis/javascript load before we scrape \n",
    "driver.implicitly_wait(10) # seconds\n",
    "\n",
    "url = \"https://library.municode.com/va/amherst/codes/code_of_ordinances\"\n",
    "driver.get(url)\n",
    "\n",
    "\n",
    "elems = driver.find_elements_by_tag_name('a')\n",
    "for elem in elems:\n",
    "    href = elem.get_attribute('href')\n",
    "    if href is not None:\n",
    "        print(href)"
   ]
  },
  {
   "cell_type": "code",
   "execution_count": null,
   "id": "9d46fb5b",
   "metadata": {},
   "outputs": [],
   "source": []
  },
  {
   "cell_type": "code",
   "execution_count": null,
   "id": "526851ec",
   "metadata": {},
   "outputs": [],
   "source": []
  },
  {
   "cell_type": "markdown",
   "id": "d6299c90",
   "metadata": {},
   "source": [
    "https://www.geeksforgeeks.org/how-to-merge-two-csv-files-by-specific-column-using-pandas-in-python/"
   ]
  },
  {
   "cell_type": "code",
   "execution_count": null,
   "id": "0e1530a5",
   "metadata": {},
   "outputs": [],
   "source": []
  },
  {
   "cell_type": "code",
   "execution_count": null,
   "id": "55f18bae",
   "metadata": {},
   "outputs": [],
   "source": []
  },
  {
   "cell_type": "markdown",
   "id": "13c505b2",
   "metadata": {},
   "source": [
    "# Outer Join all of the CSVs"
   ]
  },
  {
   "cell_type": "code",
   "execution_count": 1,
   "id": "923342a9",
   "metadata": {},
   "outputs": [],
   "source": [
    "import pandas as pd"
   ]
  },
  {
   "cell_type": "code",
   "execution_count": 2,
   "id": "2986bd04",
   "metadata": {},
   "outputs": [
    {
     "name": "stdout",
     "output_type": "stream",
     "text": [
      "['spotsylvania_county.csv', 'falls_church.csv', 'Richmond.csv', 'prince_george_county.csv', 'quantico.csv', 'fairfax.csv', 'madison_county.csv', 'chase_city.csv', 'covington.csv', 'hanover_county.csv', 'bluefield.csv', 'tappahannock.csv', 'james_city_county.csv', 'herndon.csv', 'bristol.csv', 'vinton.csv', 'woodstock.csv', 'prince_edward_county.csv', 'farmville.csv', 'kenbridge.csv', 'stafford_county.csv', 'cape_charles.csv', 'botetourt_county.csv', 'king_george_county.csv', 'sussex_county.csv', 'culpeper_county.csv', 'crewe.csv', 'blackstone.csv', 'salem.csv', 'petersburg.csv', 'gloucester_county.csv', 'lawrenceville.csv', 'dinwiddie_county.csv', 'powhatan_county.csv', 'brunswick_county.csv', 'tazewell.csv', 'dumfries.csv', 'windsor.csv', 'louisa_county.csv', 'bedford_county.csv', 'pulaski.csv', 'franklin_county.csv', 'orange.csv', 'vienna.csv', 'onancock.csv', 'floyd_county.csv', 'alleghany_county.csv', 'emporia.csv', 'damascus.csv', 'gordonsville.csv', 'manassas_park.csv', 'accomack_county.csv', 'amherst_county.csv', 'portsmouth.csv', 'southampton_county.csv', 'big_stone_gap.csv', 'henrico_county.csv', 'craig_county.csv', 'rocky_mount.csv', 'luray.csv', 'mecklenburg_county.csv', 'nelson_county.csv', 'south_boston.csv', 'king_and_queen_county.csv', 'alexandria.csv', 'st._paul.csv', 'wise_county.csv', 'waynesboro.csv', 'isle_of_wight_county.csv', 'amherst.csv', 'mount_jackson.csv', 'roanoke_county.csv', 'king_william_county.csv', 'essex_county.csv', 'greensville_county.csv', 'marion.csv', 'charlottesville.csv', 'westmoreland_county.csv', 'norton.csv', 'clifton_forge.csv', 'altavista.csv', 'strasburg.csv', 'prince_william_county.csv', 'bedford.csv', 'fairfax_county.csv', 'newport_news.csv', 'roanoke.csv', 'smyth_county.csv', 'harrisonburg.csv', 'chesterfield_county.csv', 'chatham.csv', 'victoria.csv', 'haymarket.csv', 'cumberland_county.csv', 'surry_county.csv', 'halifax_county.csv', 'smithfield.csv', 'shenandoah.csv', 'lunenburg_county.csv', 'charles_city_county.csv', 'buena_vista.csv', 'leesburg.csv', 'dayton.csv', 'hamilton.csv', 'christiansburg.csv', 'south_hill.csv', 'west_point.csv', 'new_kent_county.csv', 'blacksburg.csv', 'tazewell_county.csv', 'greene_county.csv', 'new_market.csv', 'martinsville.csv', 'washington_county.csv', 'manassas.csv', 'albemarle_county.csv', 'fluvanna_county.csv', 'colonial_beach.csv']\n"
     ]
    }
   ],
   "source": [
    "import os\n",
    "import glob\n",
    "\n",
    "path = 'countyCSV'\n",
    "extension = 'csv'\n",
    "os.chdir(path)\n",
    "result = glob.glob('*.{}'.format(extension))\n",
    "print(result)"
   ]
  },
  {
   "cell_type": "code",
   "execution_count": 3,
   "id": "ad96b2e6",
   "metadata": {},
   "outputs": [],
   "source": [
    "def standardize_headers(df):\n",
    "    # if the dataframe is more than 2 columns then it holds information we don't care about\n",
    "    # so we should skip it \n",
    "    if df.shape[-1] != 2:\n",
    "        df = pd.DataFrame(columns=range(2))\n",
    "        \n",
    "    # if the first row has the headers in it, make that row the header\n",
    "    if df.columns[0] == \"0\":\n",
    "        print('first row ')\n",
    "        new_header = df.iloc[0] #grab the first row for the header\n",
    "        df = df[1:] #take the data less the header row\n",
    "\n",
    "    # but if the dataframe columns are already correct, leave them that way \n",
    "    elif df.columns[0] != \"0\":\n",
    "        print('correct')\n",
    "        pass\n",
    "    \n",
    "    # now update the headers so we can control for spacing \n",
    "    headers = ['Code of Virginia Section', 'Section this Code']\n",
    "    df.columns = headers\n",
    "    \n",
    "    return df"
   ]
  },
  {
   "cell_type": "code",
   "execution_count": 4,
   "id": "e3e2d2aa",
   "metadata": {},
   "outputs": [],
   "source": [
    "# df = pd.DataFrame(columns=range(2))\n",
    "# headers = ['Code of Virginia Section', 'Section this Code']\n",
    "# df.columns = headers\n",
    "# df"
   ]
  },
  {
   "cell_type": "code",
   "execution_count": 5,
   "id": "a6ec4d29",
   "metadata": {},
   "outputs": [],
   "source": [
    "# exs = ['spotsylvania_county.csv', 'falls_church.csv', 'Richmond.csv', 'prince_george_county.csv', 'quantico.csv', 'fairfax.csv', 'madison_county.csv', 'chase_city.csv', 'covington.csv', 'hanover_county.csv', 'bluefield.csv', 'tappahannock.csv']"
   ]
  },
  {
   "cell_type": "code",
   "execution_count": 6,
   "id": "1a580175",
   "metadata": {},
   "outputs": [],
   "source": [
    "# for ex in exs:\n",
    "#     example = pd.read_csv(ex)\n",
    "#     # standardize_headers(ex)\n",
    "#     print(ex)\n",
    "#     print(example.shape)"
   ]
  },
  {
   "cell_type": "code",
   "execution_count": 7,
   "id": "4541b46e",
   "metadata": {},
   "outputs": [],
   "source": [
    "# pd.read_csv(\"chase_city.csv\")#.shape[-1] != 3"
   ]
  },
  {
   "cell_type": "code",
   "execution_count": null,
   "id": "db235464",
   "metadata": {},
   "outputs": [
    {
     "name": "stdout",
     "output_type": "stream",
     "text": [
      "town: spotsylvania_county.csv\n",
      "correct\n",
      "town: falls_church.csv\n",
      "first row \n",
      "town: Richmond.csv\n",
      "correct\n",
      "town: prince_george_county.csv\n",
      "first row \n",
      "town: quantico.csv\n",
      "first row \n"
     ]
    }
   ],
   "source": [
    "output = pd.DataFrame()\n",
    "for csv in result[:10]:\n",
    "    print(\"town:\",csv)\n",
    "    # read in the csv as a pandas dataframe\n",
    "    df = pd.read_csv(csv)\n",
    "    \n",
    "    # clean up the dataframe and standardize it (mostly concerned with headers)\n",
    "    df = standardize_headers(df)\n",
    "    \n",
    "    # if standardize_headers() pushed an empty dataframe then just skip this\n",
    "    # this would happen when that town/county doesn't have the table that we want\n",
    "    if df.shape[0] != 0:\n",
    "\n",
    "        # if 'output' variable is an empty dataframe, initialize it with the current csv \n",
    "        if output.empty:\n",
    "            output = df\n",
    "\n",
    "        # otherwise, outerjoin the current dataframe with the 'output' dataframe variable\n",
    "        else:\n",
    "            # using merge function by setting how='inner'\n",
    "            output = pd.merge(output, df, \n",
    "                       on='Code of Virginia Section', \n",
    "                       how='outer')\n",
    "    elif df.shape[0] == 0:\n",
    "        pass\n",
    "    \n",
    "output"
   ]
  },
  {
   "cell_type": "code",
   "execution_count": 5,
   "id": "ca88dd14",
   "metadata": {},
   "outputs": [],
   "source": [
    "import pandas as pd\n",
    "\n",
    "# reading two csv files\n",
    "data1 = pd.read_csv('countyCSV/accomack_county.csv')\n",
    "data2 = pd.read_csv('countyCSV/alleghany_county.csv')\n",
    "  \n",
    "# using merge function by setting how='inner'\n",
    "output1 = pd.merge(data1, data2, \n",
    "                   on='0', \n",
    "                   how='outer')\n",
    "  "
   ]
  },
  {
   "cell_type": "code",
   "execution_count": 19,
   "id": "418187d7",
   "metadata": {},
   "outputs": [
    {
     "data": {
      "text/plain": [
       "True"
      ]
     },
     "execution_count": 19,
     "metadata": {},
     "output_type": "execute_result"
    }
   ],
   "source": [
    "data1.loc[0][0] == \"Code of Virginia  Section\""
   ]
  },
  {
   "cell_type": "code",
   "execution_count": 47,
   "id": "3c5fbbc0",
   "metadata": {},
   "outputs": [
    {
     "data": {
      "text/html": [
       "<div>\n",
       "<style scoped>\n",
       "    .dataframe tbody tr th:only-of-type {\n",
       "        vertical-align: middle;\n",
       "    }\n",
       "\n",
       "    .dataframe tbody tr th {\n",
       "        vertical-align: top;\n",
       "    }\n",
       "\n",
       "    .dataframe thead th {\n",
       "        text-align: right;\n",
       "    }\n",
       "</style>\n",
       "<table border=\"1\" class=\"dataframe\">\n",
       "  <thead>\n",
       "    <tr style=\"text-align: right;\">\n",
       "      <th></th>\n",
       "      <th>0</th>\n",
       "      <th>1_x</th>\n",
       "      <th>1_y</th>\n",
       "    </tr>\n",
       "  </thead>\n",
       "  <tbody>\n",
       "    <tr>\n",
       "      <th>0</th>\n",
       "      <td>Code of Virginia  Section</td>\n",
       "      <td>Section this Code</td>\n",
       "      <td>NaN</td>\n",
       "    </tr>\n",
       "    <tr>\n",
       "      <th>1</th>\n",
       "      <td>1-13 et seq.</td>\n",
       "      <td>Ch. 1</td>\n",
       "      <td>1-2</td>\n",
       "    </tr>\n",
       "    <tr>\n",
       "      <th>2</th>\n",
       "      <td>1-13.3</td>\n",
       "      <td>1-2</td>\n",
       "      <td>NaN</td>\n",
       "    </tr>\n",
       "    <tr>\n",
       "      <th>3</th>\n",
       "      <td>1-13.6, 1-13.7</td>\n",
       "      <td>1-2</td>\n",
       "      <td>NaN</td>\n",
       "    </tr>\n",
       "    <tr>\n",
       "      <th>4</th>\n",
       "      <td>1-13.9</td>\n",
       "      <td>1-4</td>\n",
       "      <td>1-3</td>\n",
       "    </tr>\n",
       "    <tr>\n",
       "      <th>...</th>\n",
       "      <td>...</td>\n",
       "      <td>...</td>\n",
       "      <td>...</td>\n",
       "    </tr>\n",
       "    <tr>\n",
       "      <th>710</th>\n",
       "      <td>59.1-147(a)</td>\n",
       "      <td>NaN</td>\n",
       "      <td>34-32</td>\n",
       "    </tr>\n",
       "    <tr>\n",
       "      <th>711</th>\n",
       "      <td>62.1-44.15:24 et seq.  52-3</td>\n",
       "      <td>NaN</td>\n",
       "      <td>62.1-44.15:24 et seq.  52-3</td>\n",
       "    </tr>\n",
       "    <tr>\n",
       "      <th>712</th>\n",
       "      <td>62.1-44.15:35</td>\n",
       "      <td>NaN</td>\n",
       "      <td>52-7</td>\n",
       "    </tr>\n",
       "    <tr>\n",
       "      <th>713</th>\n",
       "      <td>63.1-17</td>\n",
       "      <td>NaN</td>\n",
       "      <td>66-678</td>\n",
       "    </tr>\n",
       "    <tr>\n",
       "      <th>714</th>\n",
       "      <td>63.1-172</td>\n",
       "      <td>NaN</td>\n",
       "      <td>66-93</td>\n",
       "    </tr>\n",
       "  </tbody>\n",
       "</table>\n",
       "<p>715 rows × 3 columns</p>\n",
       "</div>"
      ],
      "text/plain": [
       "                               0                1_x  \\\n",
       "0      Code of Virginia  Section  Section this Code   \n",
       "1                   1-13 et seq.              Ch. 1   \n",
       "2                         1-13.3                1-2   \n",
       "3                 1-13.6, 1-13.7                1-2   \n",
       "4                         1-13.9                1-4   \n",
       "..                           ...                ...   \n",
       "710                  59.1-147(a)                NaN   \n",
       "711  62.1-44.15:24 et seq.  52-3                NaN   \n",
       "712                62.1-44.15:35                NaN   \n",
       "713                      63.1-17                NaN   \n",
       "714                     63.1-172                NaN   \n",
       "\n",
       "                             1_y  \n",
       "0                            NaN  \n",
       "1                            1-2  \n",
       "2                            NaN  \n",
       "3                            NaN  \n",
       "4                            1-3  \n",
       "..                           ...  \n",
       "710                        34-32  \n",
       "711  62.1-44.15:24 et seq.  52-3  \n",
       "712                         52-7  \n",
       "713                       66-678  \n",
       "714                        66-93  \n",
       "\n",
       "[715 rows x 3 columns]"
      ]
     },
     "execution_count": 47,
     "metadata": {},
     "output_type": "execute_result"
    }
   ],
   "source": [
    "# displaying result\n",
    "output1"
   ]
  },
  {
   "cell_type": "code",
   "execution_count": 15,
   "id": "6b953b25",
   "metadata": {},
   "outputs": [],
   "source": [
    "data3 = pd.read_csv('countyCSV/altavista.csv')\n",
    "  \n",
    "# using merge function by setting how='inner'\n",
    "# output2 = pd.merge(output1, data3, \n",
    "#                    on='0', \n",
    "#                    how='outer')\n",
    "  "
   ]
  },
  {
   "cell_type": "code",
   "execution_count": 20,
   "id": "03b557ae",
   "metadata": {},
   "outputs": [
    {
     "data": {
      "text/plain": [
       "False"
      ]
     },
     "execution_count": 20,
     "metadata": {},
     "output_type": "execute_result"
    }
   ],
   "source": [
    "data3.loc[0][0] == \"Code of Virginia  Section\""
   ]
  },
  {
   "cell_type": "code",
   "execution_count": 27,
   "id": "229458ee",
   "metadata": {},
   "outputs": [
    {
     "data": {
      "text/plain": [
       "'Code of  Virginia  Section'"
      ]
     },
     "execution_count": 27,
     "metadata": {},
     "output_type": "execute_result"
    }
   ],
   "source": [
    "data3.columns[0] == \"Code of Virginia  Section\""
   ]
  }
 ],
 "metadata": {
  "kernelspec": {
   "display_name": "Python 3",
   "language": "python",
   "name": "python3"
  },
  "language_info": {
   "codemirror_mode": {
    "name": "ipython",
    "version": 3
   },
   "file_extension": ".py",
   "mimetype": "text/x-python",
   "name": "python",
   "nbconvert_exporter": "python",
   "pygments_lexer": "ipython3",
   "version": "3.7.7"
  }
 },
 "nbformat": 4,
 "nbformat_minor": 5
}
