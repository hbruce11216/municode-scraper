{
 "cells": [
  {
   "cell_type": "code",
   "execution_count": 14,
   "id": "5df5d42f",
   "metadata": {},
   "outputs": [],
   "source": [
    "import pandas as pd \n",
    "import os \n",
    "import time\n",
    "from selenium import webdriver\n",
    "from selenium.webdriver.common.keys import Keys\n",
    "import re\n",
    "import requests"
   ]
  },
  {
   "cell_type": "code",
   "execution_count": 1,
   "id": "b39732d7",
   "metadata": {},
   "outputs": [],
   "source": [
    "import municode"
   ]
  },
  {
   "cell_type": "code",
   "execution_count": 7,
   "id": "f73fd062",
   "metadata": {},
   "outputs": [
    {
     "data": {
      "text/html": [
       "<div>\n",
       "<style scoped>\n",
       "    .dataframe tbody tr th:only-of-type {\n",
       "        vertical-align: middle;\n",
       "    }\n",
       "\n",
       "    .dataframe tbody tr th {\n",
       "        vertical-align: top;\n",
       "    }\n",
       "\n",
       "    .dataframe thead th {\n",
       "        text-align: right;\n",
       "    }\n",
       "</style>\n",
       "<table border=\"1\" class=\"dataframe\">\n",
       "  <thead>\n",
       "    <tr style=\"text-align: right;\">\n",
       "      <th></th>\n",
       "      <th>urls</th>\n",
       "    </tr>\n",
       "  </thead>\n",
       "  <tbody>\n",
       "    <tr>\n",
       "      <th>0</th>\n",
       "      <td>https://library.municode.com/VA/accomack_county</td>\n",
       "    </tr>\n",
       "    <tr>\n",
       "      <th>1</th>\n",
       "      <td>https://library.municode.com/VA/albemarle_county</td>\n",
       "    </tr>\n",
       "    <tr>\n",
       "      <th>2</th>\n",
       "      <td>https://library.municode.com/VA/alexandria</td>\n",
       "    </tr>\n",
       "    <tr>\n",
       "      <th>3</th>\n",
       "      <td>https://library.municode.com/VA/alleghany_county</td>\n",
       "    </tr>\n",
       "    <tr>\n",
       "      <th>4</th>\n",
       "      <td>https://library.municode.com/VA/altavista</td>\n",
       "    </tr>\n",
       "    <tr>\n",
       "      <th>...</th>\n",
       "      <td>...</td>\n",
       "    </tr>\n",
       "    <tr>\n",
       "      <th>141</th>\n",
       "      <td>https://library.municode.com/VA/winchester</td>\n",
       "    </tr>\n",
       "    <tr>\n",
       "      <th>142</th>\n",
       "      <td>https://library.municode.com/VA/windsor</td>\n",
       "    </tr>\n",
       "    <tr>\n",
       "      <th>143</th>\n",
       "      <td>https://library.municode.com/VA/wise_county</td>\n",
       "    </tr>\n",
       "    <tr>\n",
       "      <th>144</th>\n",
       "      <td>https://library.municode.com/VA/woodstock</td>\n",
       "    </tr>\n",
       "    <tr>\n",
       "      <th>145</th>\n",
       "      <td>https://library.municode.com/VA/wytheville</td>\n",
       "    </tr>\n",
       "  </tbody>\n",
       "</table>\n",
       "<p>146 rows × 1 columns</p>\n",
       "</div>"
      ],
      "text/plain": [
       "                                                 urls\n",
       "0     https://library.municode.com/VA/accomack_county\n",
       "1    https://library.municode.com/VA/albemarle_county\n",
       "2          https://library.municode.com/VA/alexandria\n",
       "3    https://library.municode.com/VA/alleghany_county\n",
       "4           https://library.municode.com/VA/altavista\n",
       "..                                                ...\n",
       "141        https://library.municode.com/VA/winchester\n",
       "142           https://library.municode.com/VA/windsor\n",
       "143       https://library.municode.com/VA/wise_county\n",
       "144         https://library.municode.com/VA/woodstock\n",
       "145        https://library.municode.com/VA/wytheville\n",
       "\n",
       "[146 rows x 1 columns]"
      ]
     },
     "execution_count": 7,
     "metadata": {},
     "output_type": "execute_result"
    }
   ],
   "source": [
    "town_urls = municode.list_of_towns()\n",
    "town_urls = town_urls.rename(columns={0:\"urls\"})\n",
    "town_urls"
   ]
  },
  {
   "cell_type": "code",
   "execution_count": 11,
   "id": "3e1ac8ee",
   "metadata": {},
   "outputs": [],
   "source": [
    "# alexandria = municode.identify_comparison_table_URL_part1(town_urls.loc[2,'urls'])\n",
    "# alexandria"
   ]
  },
  {
   "cell_type": "code",
   "execution_count": 20,
   "id": "4f189a36",
   "metadata": {},
   "outputs": [],
   "source": [
    "#    profile_name = \"xpath@@//*[contains(@class,'mt2 relative')]//h1\"\n",
    "\n",
    "# xpath = \"xpath@@//*[contains(@class, 'toc-item-heading')]\"\n",
    "xpath = \"//*/span[contains(text(),'STATE LAW REFERENCE TABLE')] | //*/span[text()='TABLE']\"\n",
    "\n"
   ]
  },
  {
   "cell_type": "markdown",
   "id": "17d7ac63",
   "metadata": {},
   "source": [
    "# I just went through and looked at some of the nodeIDs"
   ]
  },
  {
   "cell_type": "markdown",
   "id": "887f1a1e",
   "metadata": {},
   "source": [
    "\n",
    "nodeID = ?\n",
    "\n",
    "STLARETA\n",
    "\n",
    "STRETA\n",
    "\n",
    "STATE_LAW_REFERENCE_TABLE\n",
    "\n",
    "THCH_STRETA\n",
    "\n",
    "CD_COMPARATIVE_TABLEOR\n",
    "\n",
    "COOR_STRETA\n",
    "\n",
    "It would be great to do a check on these nodeIDs and return the URLs for the towns that have a match"
   ]
  },
  {
   "cell_type": "code",
   "execution_count": 27,
   "id": "42c0302c",
   "metadata": {},
   "outputs": [],
   "source": [
    "\n",
    "def find_compTable_url(url):\n",
    "    driver = webdriver.Chrome('/Users/holdenbruce/Downloads/chromedriver')\n",
    "\n",
    "    # set implicit wait time so that apis/javascript load before we scrape \n",
    "    driver.implicitly_wait(5) # seconds\n",
    "\n",
    "    # xpath of the table in the webpage created by javascript \n",
    "    # xpath = \"//*/span[contains(text(),'STATE LAW REFERENCE TABLE')] | //*/span[text()='TABLE']\"\n",
    "    xpath = \"//*/href/[contains(text(), 'STLARETA') | contains(text(), 'STRETA')]\"\n",
    "#     xpath = \"/html/body/div[1]/div[2]/ui-view/mcc-codes/div[2]/section[1]/div[2]\"\n",
    "\n",
    "    driver.get(url)\n",
    "\n",
    "    # use xpath to get to the table\n",
    "    data = driver.find_elements_by_xpath(xpath)\n",
    "    # links = driver.find_elements_by_tag_name(\"a\")\n",
    "    \n",
    "    \n",
    "    # add a delay of 3 seconds in the function\n",
    "    time.sleep(2)\n",
    "    \n",
    "    \n",
    "    # use outerHTML to maintain the html/css/javasript code pulled from the webpage \n",
    "    html = data[0].get_attribute(\"outerHTML\")\n",
    "\n",
    "    r2 = re.findall(r'(https?://[^\\s]+)', html)\n",
    "    \n",
    "    url = r2[-1]\n",
    "    url = url[:-1]\n",
    "    \n",
    "    return url"
   ]
  },
  {
   "cell_type": "code",
   "execution_count": 28,
   "id": "9bb6d99e",
   "metadata": {},
   "outputs": [
    {
     "ename": "InvalidSelectorException",
     "evalue": "Message: invalid selector: Unable to locate an element with the xpath expression //*/href/[contains(text(), 'STLARETA') | contains(text(), 'STRETA')] because of the following error:\nSyntaxError: Failed to execute 'evaluate' on 'Document': The string '//*/href/[contains(text(), 'STLARETA') | contains(text(), 'STRETA')]' is not a valid XPath expression.\n  (Session info: chrome=97.0.4692.99)\n",
     "output_type": "error",
     "traceback": [
      "\u001b[0;31m---------------------------------------------------------------------------\u001b[0m",
      "\u001b[0;31mInvalidSelectorException\u001b[0m                  Traceback (most recent call last)",
      "\u001b[0;32m<ipython-input-28-f3c6022510f4>\u001b[0m in \u001b[0;36m<module>\u001b[0;34m\u001b[0m\n\u001b[1;32m      1\u001b[0m \u001b[0mtestURL\u001b[0m \u001b[0;34m=\u001b[0m \u001b[0;34m\"https://library.municode.com/va/amherst/codes/code_of_ordinances\"\u001b[0m\u001b[0;34m\u001b[0m\u001b[0;34m\u001b[0m\u001b[0m\n\u001b[1;32m      2\u001b[0m \u001b[0;34m\u001b[0m\u001b[0m\n\u001b[0;32m----> 3\u001b[0;31m \u001b[0mfind_compTable_url\u001b[0m\u001b[0;34m(\u001b[0m\u001b[0mtestURL\u001b[0m\u001b[0;34m)\u001b[0m\u001b[0;34m\u001b[0m\u001b[0;34m\u001b[0m\u001b[0m\n\u001b[0m",
      "\u001b[0;32m<ipython-input-27-c2bc2289f94a>\u001b[0m in \u001b[0;36mfind_compTable_url\u001b[0;34m(url)\u001b[0m\n\u001b[1;32m     13\u001b[0m \u001b[0;34m\u001b[0m\u001b[0m\n\u001b[1;32m     14\u001b[0m     \u001b[0;31m# use xpath to get to the table\u001b[0m\u001b[0;34m\u001b[0m\u001b[0;34m\u001b[0m\u001b[0;34m\u001b[0m\u001b[0m\n\u001b[0;32m---> 15\u001b[0;31m     \u001b[0mdata\u001b[0m \u001b[0;34m=\u001b[0m \u001b[0mdriver\u001b[0m\u001b[0;34m.\u001b[0m\u001b[0mfind_elements_by_xpath\u001b[0m\u001b[0;34m(\u001b[0m\u001b[0mxpath\u001b[0m\u001b[0;34m)\u001b[0m\u001b[0;34m\u001b[0m\u001b[0;34m\u001b[0m\u001b[0m\n\u001b[0m\u001b[1;32m     16\u001b[0m     \u001b[0;31m# links = driver.find_elements_by_tag_name(\"a\")\u001b[0m\u001b[0;34m\u001b[0m\u001b[0;34m\u001b[0m\u001b[0;34m\u001b[0m\u001b[0m\n\u001b[1;32m     17\u001b[0m \u001b[0;34m\u001b[0m\u001b[0m\n",
      "\u001b[0;32m~/opt/anaconda3/lib/python3.7/site-packages/selenium/webdriver/remote/webdriver.py\u001b[0m in \u001b[0;36mfind_elements_by_xpath\u001b[0;34m(self, xpath)\u001b[0m\n\u001b[1;32m    408\u001b[0m             \u001b[0melements\u001b[0m \u001b[0;34m=\u001b[0m \u001b[0mdriver\u001b[0m\u001b[0;34m.\u001b[0m\u001b[0mfind_elements_by_xpath\u001b[0m\u001b[0;34m(\u001b[0m\u001b[0;34m\"//div[contains(@class, 'foo')]\"\u001b[0m\u001b[0;34m)\u001b[0m\u001b[0;34m\u001b[0m\u001b[0;34m\u001b[0m\u001b[0m\n\u001b[1;32m    409\u001b[0m         \"\"\"\n\u001b[0;32m--> 410\u001b[0;31m         \u001b[0;32mreturn\u001b[0m \u001b[0mself\u001b[0m\u001b[0;34m.\u001b[0m\u001b[0mfind_elements\u001b[0m\u001b[0;34m(\u001b[0m\u001b[0mby\u001b[0m\u001b[0;34m=\u001b[0m\u001b[0mBy\u001b[0m\u001b[0;34m.\u001b[0m\u001b[0mXPATH\u001b[0m\u001b[0;34m,\u001b[0m \u001b[0mvalue\u001b[0m\u001b[0;34m=\u001b[0m\u001b[0mxpath\u001b[0m\u001b[0;34m)\u001b[0m\u001b[0;34m\u001b[0m\u001b[0;34m\u001b[0m\u001b[0m\n\u001b[0m\u001b[1;32m    411\u001b[0m \u001b[0;34m\u001b[0m\u001b[0m\n\u001b[1;32m    412\u001b[0m     \u001b[0;32mdef\u001b[0m \u001b[0mfind_element_by_link_text\u001b[0m\u001b[0;34m(\u001b[0m\u001b[0mself\u001b[0m\u001b[0;34m,\u001b[0m \u001b[0mlink_text\u001b[0m\u001b[0;34m)\u001b[0m\u001b[0;34m:\u001b[0m\u001b[0;34m\u001b[0m\u001b[0;34m\u001b[0m\u001b[0m\n",
      "\u001b[0;32m~/opt/anaconda3/lib/python3.7/site-packages/selenium/webdriver/remote/webdriver.py\u001b[0m in \u001b[0;36mfind_elements\u001b[0;34m(self, by, value)\u001b[0m\n\u001b[1;32m   1005\u001b[0m         return self.execute(Command.FIND_ELEMENTS, {\n\u001b[1;32m   1006\u001b[0m             \u001b[0;34m'using'\u001b[0m\u001b[0;34m:\u001b[0m \u001b[0mby\u001b[0m\u001b[0;34m,\u001b[0m\u001b[0;34m\u001b[0m\u001b[0;34m\u001b[0m\u001b[0m\n\u001b[0;32m-> 1007\u001b[0;31m             'value': value})['value'] or []\n\u001b[0m\u001b[1;32m   1008\u001b[0m \u001b[0;34m\u001b[0m\u001b[0m\n\u001b[1;32m   1009\u001b[0m     \u001b[0;34m@\u001b[0m\u001b[0mproperty\u001b[0m\u001b[0;34m\u001b[0m\u001b[0;34m\u001b[0m\u001b[0m\n",
      "\u001b[0;32m~/opt/anaconda3/lib/python3.7/site-packages/selenium/webdriver/remote/webdriver.py\u001b[0m in \u001b[0;36mexecute\u001b[0;34m(self, driver_command, params)\u001b[0m\n\u001b[1;32m    319\u001b[0m         \u001b[0mresponse\u001b[0m \u001b[0;34m=\u001b[0m \u001b[0mself\u001b[0m\u001b[0;34m.\u001b[0m\u001b[0mcommand_executor\u001b[0m\u001b[0;34m.\u001b[0m\u001b[0mexecute\u001b[0m\u001b[0;34m(\u001b[0m\u001b[0mdriver_command\u001b[0m\u001b[0;34m,\u001b[0m \u001b[0mparams\u001b[0m\u001b[0;34m)\u001b[0m\u001b[0;34m\u001b[0m\u001b[0;34m\u001b[0m\u001b[0m\n\u001b[1;32m    320\u001b[0m         \u001b[0;32mif\u001b[0m \u001b[0mresponse\u001b[0m\u001b[0;34m:\u001b[0m\u001b[0;34m\u001b[0m\u001b[0;34m\u001b[0m\u001b[0m\n\u001b[0;32m--> 321\u001b[0;31m             \u001b[0mself\u001b[0m\u001b[0;34m.\u001b[0m\u001b[0merror_handler\u001b[0m\u001b[0;34m.\u001b[0m\u001b[0mcheck_response\u001b[0m\u001b[0;34m(\u001b[0m\u001b[0mresponse\u001b[0m\u001b[0;34m)\u001b[0m\u001b[0;34m\u001b[0m\u001b[0;34m\u001b[0m\u001b[0m\n\u001b[0m\u001b[1;32m    322\u001b[0m             response['value'] = self._unwrap_value(\n\u001b[1;32m    323\u001b[0m                 response.get('value', None))\n",
      "\u001b[0;32m~/opt/anaconda3/lib/python3.7/site-packages/selenium/webdriver/remote/errorhandler.py\u001b[0m in \u001b[0;36mcheck_response\u001b[0;34m(self, response)\u001b[0m\n\u001b[1;32m    240\u001b[0m                 \u001b[0malert_text\u001b[0m \u001b[0;34m=\u001b[0m \u001b[0mvalue\u001b[0m\u001b[0;34m[\u001b[0m\u001b[0;34m'alert'\u001b[0m\u001b[0;34m]\u001b[0m\u001b[0;34m.\u001b[0m\u001b[0mget\u001b[0m\u001b[0;34m(\u001b[0m\u001b[0;34m'text'\u001b[0m\u001b[0;34m)\u001b[0m\u001b[0;34m\u001b[0m\u001b[0;34m\u001b[0m\u001b[0m\n\u001b[1;32m    241\u001b[0m             \u001b[0;32mraise\u001b[0m \u001b[0mexception_class\u001b[0m\u001b[0;34m(\u001b[0m\u001b[0mmessage\u001b[0m\u001b[0;34m,\u001b[0m \u001b[0mscreen\u001b[0m\u001b[0;34m,\u001b[0m \u001b[0mstacktrace\u001b[0m\u001b[0;34m,\u001b[0m \u001b[0malert_text\u001b[0m\u001b[0;34m)\u001b[0m\u001b[0;34m\u001b[0m\u001b[0;34m\u001b[0m\u001b[0m\n\u001b[0;32m--> 242\u001b[0;31m         \u001b[0;32mraise\u001b[0m \u001b[0mexception_class\u001b[0m\u001b[0;34m(\u001b[0m\u001b[0mmessage\u001b[0m\u001b[0;34m,\u001b[0m \u001b[0mscreen\u001b[0m\u001b[0;34m,\u001b[0m \u001b[0mstacktrace\u001b[0m\u001b[0;34m)\u001b[0m\u001b[0;34m\u001b[0m\u001b[0;34m\u001b[0m\u001b[0m\n\u001b[0m\u001b[1;32m    243\u001b[0m \u001b[0;34m\u001b[0m\u001b[0m\n\u001b[1;32m    244\u001b[0m     \u001b[0;32mdef\u001b[0m \u001b[0m_value_or_default\u001b[0m\u001b[0;34m(\u001b[0m\u001b[0mself\u001b[0m\u001b[0;34m,\u001b[0m \u001b[0mobj\u001b[0m\u001b[0;34m,\u001b[0m \u001b[0mkey\u001b[0m\u001b[0;34m,\u001b[0m \u001b[0mdefault\u001b[0m\u001b[0;34m)\u001b[0m\u001b[0;34m:\u001b[0m\u001b[0;34m\u001b[0m\u001b[0;34m\u001b[0m\u001b[0m\n",
      "\u001b[0;31mInvalidSelectorException\u001b[0m: Message: invalid selector: Unable to locate an element with the xpath expression //*/href/[contains(text(), 'STLARETA') | contains(text(), 'STRETA')] because of the following error:\nSyntaxError: Failed to execute 'evaluate' on 'Document': The string '//*/href/[contains(text(), 'STLARETA') | contains(text(), 'STRETA')]' is not a valid XPath expression.\n  (Session info: chrome=97.0.4692.99)\n"
     ]
    }
   ],
   "source": [
    "testURL = \"https://library.municode.com/va/amherst/codes/code_of_ordinances\"\n",
    "\n",
    "find_compTable_url(testURL)"
   ]
  },
  {
   "cell_type": "code",
   "execution_count": null,
   "id": "e4f1af66",
   "metadata": {},
   "outputs": [],
   "source": []
  }
 ],
 "metadata": {
  "kernelspec": {
   "display_name": "Python 3",
   "language": "python",
   "name": "python3"
  },
  "language_info": {
   "codemirror_mode": {
    "name": "ipython",
    "version": 3
   },
   "file_extension": ".py",
   "mimetype": "text/x-python",
   "name": "python",
   "nbconvert_exporter": "python",
   "pygments_lexer": "ipython3",
   "version": "3.7.7"
  }
 },
 "nbformat": 4,
 "nbformat_minor": 5
}
